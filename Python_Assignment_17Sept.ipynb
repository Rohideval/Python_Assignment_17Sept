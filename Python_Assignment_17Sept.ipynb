{
 "cells": [
  {
   "cell_type": "markdown",
   "id": "e134bfb3-ac41-4bb5-95c0-22c39090063d",
   "metadata": {},
   "source": [
    "# For Loop :-"
   ]
  },
  {
   "cell_type": "markdown",
   "id": "81383b3b-53c0-4efe-95a6-78415427ac46",
   "metadata": {},
   "source": [
    "1. Write aPython program to print numbers from 1 to 10 using a for loop."
   ]
  },
  {
   "cell_type": "code",
   "execution_count": 1,
   "id": "ab95c46b-2eef-48cc-be83-a454a5a39e7c",
   "metadata": {},
   "outputs": [
    {
     "name": "stdout",
     "output_type": "stream",
     "text": [
      "1\n",
      "2\n",
      "3\n",
      "4\n",
      "5\n",
      "6\n",
      "7\n",
      "8\n",
      "9\n",
      "10\n"
     ]
    }
   ],
   "source": [
    "for i in range(1,11):\n",
    "    print(i)"
   ]
  },
  {
   "cell_type": "markdown",
   "id": "46d38057-1589-4f58-b7f8-bb9c34903b44",
   "metadata": {},
   "source": [
    " 2. Explain the difference between a for loop and a while loop in Python."
   ]
  },
  {
   "cell_type": "markdown",
   "id": "eae03116-7c40-4613-9e6c-e83d4bdbc4dc",
   "metadata": {},
   "source": [
    "Answer:-  There are two loop in python 1.for loop and 2. while loop\n",
    "in the for loop the number of iteration is prediceded however in case of while loop number of iteration is not known.\n",
    "in both the loop condition checking is done at beginning\n",
    "for loop is used when number of iteration is known and while loop is used when number of iteration is unknown\n",
    "In case of for loop the iteration statement written at beginning and in while loop statement can be written any point inside the loop"
   ]
  },
  {
   "cell_type": "markdown",
   "id": "a626faf3-c5d8-4820-8b9d-1b4b323aeef6",
   "metadata": {},
   "source": [
    " 3. Write aPython program to calculate the sum of all numbers from 1 to 100 using a for loop."
   ]
  },
  {
   "cell_type": "code",
   "execution_count": 7,
   "id": "8a9146a3-74ad-4351-b155-c11cfa6609ab",
   "metadata": {},
   "outputs": [
    {
     "name": "stdout",
     "output_type": "stream",
     "text": [
      "Sum of 1 to 100-> 5050\n"
     ]
    }
   ],
   "source": [
    "sum_num=sum([i for i in range(1,101)])\n",
    "print(\"Sum of 1 to 100->\",sum_num)"
   ]
  },
  {
   "cell_type": "markdown",
   "id": "0a4906b3-162a-495c-8a90-c4c762491003",
   "metadata": {},
   "source": [
    "4. How do you iterate through a list using a for loop in Python?"
   ]
  },
  {
   "cell_type": "code",
   "execution_count": 10,
   "id": "c86f737d-2853-4ace-8aad-6dbf5266f234",
   "metadata": {},
   "outputs": [
    {
     "name": "stdout",
     "output_type": "stream",
     "text": [
      "a\n",
      "b\n",
      "c\n",
      "d\n"
     ]
    }
   ],
   "source": [
    "l1=['a','b','c','d']\n",
    "#in this example l1 list will be iterated by for loop. The variable l1 will be iterated each time it will throuh element one by one.\n",
    "#1st it will iterate indices l1[0] then l1[1] and it will keep iterating till end of the range\n",
    "for i in l1:\n",
    "    print(i)"
   ]
  },
  {
   "cell_type": "markdown",
   "id": "3642dfc5-01ef-42e1-9133-cb031a8c5218",
   "metadata": {},
   "source": [
    " 5. Write aPython program to find the product of all elements in a list using a for loop."
   ]
  },
  {
   "cell_type": "code",
   "execution_count": 13,
   "id": "b9a5b355-b341-4461-a0b3-7bb21160e43c",
   "metadata": {},
   "outputs": [
    {
     "name": "stdout",
     "output_type": "stream",
     "text": [
      "The product of all element in the list is: 120\n"
     ]
    }
   ],
   "source": [
    "def ProductOfList(list):\n",
    "    product=1\n",
    "    for i in list:\n",
    "        product*=i\n",
    "    print(\"The product of all element in the list is:\", product)\n",
    "\n",
    "l1=[1,2,3,4,5]\n",
    "ProductOfList(l1)"
   ]
  },
  {
   "cell_type": "markdown",
   "id": "9ba33751-c9a1-40e0-ab5a-629b8a156133",
   "metadata": {},
   "source": [
    " 6. Create a Python program that prints all even numbers from 1 to 20 using a for loop"
   ]
  },
  {
   "cell_type": "code",
   "execution_count": 14,
   "id": "8147147f-40cb-42df-98ec-da981141fcd9",
   "metadata": {},
   "outputs": [
    {
     "name": "stdout",
     "output_type": "stream",
     "text": [
      "The list of even number is: [2, 4, 6, 8, 10, 12, 14, 16, 18, 20]\n"
     ]
    }
   ],
   "source": [
    "even_num=[i for i in range(1,21) if i%2==0]\n",
    "print(\"The list of even number is:\",even_num)"
   ]
  },
  {
   "cell_type": "markdown",
   "id": "fb95ea3a-f677-482f-ac31-c499a0d5b0ec",
   "metadata": {},
   "source": [
    " 7. Write aPython program that calculates the factorial of a number using a for loop."
   ]
  },
  {
   "cell_type": "code",
   "execution_count": 34,
   "id": "7df3c441-6e53-4821-84b7-475e26ba6e8f",
   "metadata": {},
   "outputs": [],
   "source": [
    "def factorial(n):\n",
    "    if n==0:\n",
    "        return 1\n",
    "    else:\n",
    "        return n*factorial(n-1)\n",
    "        \n"
   ]
  },
  {
   "cell_type": "code",
   "execution_count": 35,
   "id": "345d35c9-8152-4a52-8b9c-70e370da033f",
   "metadata": {},
   "outputs": [
    {
     "data": {
      "text/plain": [
       "120"
      ]
     },
     "execution_count": 35,
     "metadata": {},
     "output_type": "execute_result"
    }
   ],
   "source": [
    "factorial(5)"
   ]
  },
  {
   "cell_type": "markdown",
   "id": "d2df21bf-40a8-4c4e-915f-7aa1d1d3d093",
   "metadata": {},
   "source": [
    "8. How can you iterate through the characters of a string using a for loop in Python?"
   ]
  },
  {
   "cell_type": "code",
   "execution_count": 96,
   "id": "0682d201-3f71-48e9-b3d3-ed70514e29ca",
   "metadata": {},
   "outputs": [
    {
     "name": "stdout",
     "output_type": "stream",
     "text": [
      "rohit"
     ]
    }
   ],
   "source": [
    "s1=\"rohit\"\n",
    "# with the help of for loop will access each element \n",
    "for i in s1:\n",
    "    #it will reach out to every indices one by one\n",
    "    print(i, end='')\n",
    "    #this output function return the element"
   ]
  },
  {
   "cell_type": "markdown",
   "id": "59d01ed8-f47d-4d78-84c4-7be9e54eb4c2",
   "metadata": {},
   "source": [
    " 9. Write aPython program to find the largest number in a list using a for loop.\n"
   ]
  },
  {
   "cell_type": "code",
   "execution_count": 6,
   "id": "216c5eee-0035-4992-a59c-6a39a94b3621",
   "metadata": {},
   "outputs": [
    {
     "name": "stdout",
     "output_type": "stream",
     "text": [
      "The Largest number is: [9]\n"
     ]
    }
   ],
   "source": [
    "list1=[2,3,2,4,5,6,7,1,9]\n",
    "largest=[]\n",
    "for i in list1:\n",
    "    for j in list1[::-1]:\n",
    "        if i>j:\n",
    "            largest=[i]\n",
    "        else:\n",
    "            largest=[j]\n",
    "print(\"The Largest number is:\",largest)"
   ]
  },
  {
   "cell_type": "markdown",
   "id": "201ce604-885f-43a8-8d8b-3f09244e860e",
   "metadata": {},
   "source": [
    "10. Create a Python program that prints the Fibonacci sequence up to a specified limit using a for loop."
   ]
  },
  {
   "cell_type": "code",
   "execution_count": 12,
   "id": "f7e3a4d7-33a4-4084-bae4-6c294ad3825b",
   "metadata": {},
   "outputs": [
    {
     "name": "stdin",
     "output_type": "stream",
     "text": [
      "enter a limit for fibonacci sequence 10\n"
     ]
    },
    {
     "name": "stdout",
     "output_type": "stream",
     "text": [
      "0 1 1 2 3 5 8 13 21 34 "
     ]
    }
   ],
   "source": [
    "limit=int(input(\"enter a limit for fibonacci sequence\"))\n",
    "a=0\n",
    "b=1\n",
    "for i in range(1,limit+1):\n",
    "    print(a,end=' ')\n",
    "    a,b=b,a+b"
   ]
  },
  {
   "cell_type": "markdown",
   "id": "8437fac9-e58e-439a-ba2e-e6df033724fc",
   "metadata": {},
   "source": [
    " 11. Write a Python program to count the number of vowels in a given string using a for loop."
   ]
  },
  {
   "cell_type": "code",
   "execution_count": 13,
   "id": "3260c355-0543-47a9-ae9b-d2221e5530e9",
   "metadata": {},
   "outputs": [
    {
     "name": "stdout",
     "output_type": "stream",
     "text": [
      "Vowels count for given string: 26\n"
     ]
    }
   ],
   "source": [
    "str1=\"Write a Python program to count the number of vowels in a given string using a for loop.\"\n",
    "vowel=\"AEIOUaeiou\"\n",
    "count=0\n",
    "for i in str1:\n",
    "    if i in vowel:\n",
    "        count+=1\n",
    "print(\"Vowels count for given string:\",count)"
   ]
  },
  {
   "cell_type": "markdown",
   "id": "d930d4fe-cd3d-4662-80a4-c9b9a15a52b2",
   "metadata": {},
   "source": [
    "12. Create a Python program that generates a multiplication table for a given number using a for\n",
    " loop."
   ]
  },
  {
   "cell_type": "code",
   "execution_count": 20,
   "id": "4bcf4630-600c-4cdb-baae-d97099a011eb",
   "metadata": {},
   "outputs": [],
   "source": [
    "def table_of_number(n):\n",
    "    for i in range(1,11):\n",
    "        print(n,\"*\",i,'=',n*i)"
   ]
  },
  {
   "cell_type": "code",
   "execution_count": 21,
   "id": "80c42345-85d6-401f-b53a-5213ad967d16",
   "metadata": {},
   "outputs": [
    {
     "name": "stdout",
     "output_type": "stream",
     "text": [
      "2 * 1 = 2\n",
      "2 * 2 = 4\n",
      "2 * 3 = 6\n",
      "2 * 4 = 8\n",
      "2 * 5 = 10\n",
      "2 * 6 = 12\n",
      "2 * 7 = 14\n",
      "2 * 8 = 16\n",
      "2 * 9 = 18\n",
      "2 * 10 = 20\n"
     ]
    }
   ],
   "source": [
    "table_of_number(2)"
   ]
  },
  {
   "cell_type": "markdown",
   "id": "90d41448-49b1-419e-8b84-987cea0605c9",
   "metadata": {},
   "source": [
    "13. Write a Python program to reverse a list using a for loop."
   ]
  },
  {
   "cell_type": "code",
   "execution_count": 25,
   "id": "04be7cb5-f11e-4849-83b2-ab8932765731",
   "metadata": {},
   "outputs": [
    {
     "name": "stdout",
     "output_type": "stream",
     "text": [
      "Reverse list: [8, 7, 6, 5, 4, 3, 2, 1]\n"
     ]
    }
   ],
   "source": [
    "l2=[1,2,3,4,5,6,7,8]\n",
    "reverse_l2=[]\n",
    "for i in l2[::-1]:\n",
    "    reverse_l2.append(i)\n",
    "print(\"Reverse list:\",reverse_l2)"
   ]
  },
  {
   "cell_type": "markdown",
   "id": "416c5ab7-169e-4ed6-a3db-db5740f65a82",
   "metadata": {},
   "source": [
    " 14. Write a Python program to find the common elements between two lists using a for loop."
   ]
  },
  {
   "cell_type": "code",
   "execution_count": 27,
   "id": "ac3cb09d-cd2a-4789-ae88-fc2861eacbfc",
   "metadata": {},
   "outputs": [
    {
     "name": "stdout",
     "output_type": "stream",
     "text": [
      "Common elements are: [4, 5]\n"
     ]
    }
   ],
   "source": [
    "a=[1,2,3,4,5]\n",
    "b=[4,5,6,7,8]\n",
    "common=[]\n",
    "for i in a:\n",
    "    if i in b:\n",
    "        common.append(i)\n",
    "print(\"Common elements are:\",common)"
   ]
  },
  {
   "cell_type": "markdown",
   "id": "86cba954-4ef9-4ed6-98d0-f6bbfcb5f633",
   "metadata": {},
   "source": [
    "15. Explain how to use a for loop to iterate through the keys and values of a dictionary in Python."
   ]
  },
  {
   "cell_type": "code",
   "execution_count": 38,
   "id": "7ef0242e-aa5e-4be4-8548-8150854b22ba",
   "metadata": {},
   "outputs": [
    {
     "name": "stdout",
     "output_type": "stream",
     "text": [
      "rohit 1\n",
      "Priya 2\n",
      "Vivek 3\n"
     ]
    }
   ],
   "source": [
    "d={\"rohit\":1,\"Priya\":2,\"Vivek\":3}\n",
    "#to iterate dictonary we have to use .items() function with for loop to which iterate each element one by one like below example\n",
    "for key, value in d.items():\n",
    "    print(key, value) #this print function will through each value pair everytime till the end of range"
   ]
  },
  {
   "cell_type": "markdown",
   "id": "c248f818-94a8-41f5-bf9f-f3fa40a935a2",
   "metadata": {},
   "source": [
    "16. Write a Python program to find the GCD (Greatest Common Divisor) of two numbers using a for\n",
    " loop."
   ]
  },
  {
   "cell_type": "code",
   "execution_count": 39,
   "id": "41360112-de64-4db1-a5f4-7dc5a3aa2d3d",
   "metadata": {},
   "outputs": [],
   "source": [
    "a=20\n",
    "b=40\n",
    "def find_gcd(a,b):\n",
    "    common_divisor=[]\n",
    "    for i in range(2,a+b):\n",
    "        if a%i==0 and b%i==0:\n",
    "            common_divisor.append(i)\n",
    "    print(\"The greatest common divisor is:\",max(common_divisor))"
   ]
  },
  {
   "cell_type": "code",
   "execution_count": 40,
   "id": "9d45fe7c-6410-4354-909a-3d8f28708ace",
   "metadata": {},
   "outputs": [
    {
     "name": "stdout",
     "output_type": "stream",
     "text": [
      "The greatest common divisor is: 20\n"
     ]
    }
   ],
   "source": [
    "find_gcd(a,b)"
   ]
  },
  {
   "cell_type": "markdown",
   "id": "06ac8a2b-eca4-4889-978b-b4b067bc6bb0",
   "metadata": {},
   "source": [
    "17. Create a Python program that checks if a string is a palindrome using a for loop"
   ]
  },
  {
   "cell_type": "code",
   "execution_count": 42,
   "id": "a8579186-9249-4392-829a-4ef0933b75f7",
   "metadata": {},
   "outputs": [],
   "source": [
    "a=\"ram\"\n",
    "b=\"mam\"\n",
    "def check_palindrome(a):\n",
    "    if a[::]==a[::-1]:\n",
    "        print(\"Yes the string is palindrome\")\n",
    "    else:\n",
    "        print(\"No the string is palindrome\")"
   ]
  },
  {
   "cell_type": "code",
   "execution_count": 44,
   "id": "c315de60-9237-42c0-a579-204829f0bb7b",
   "metadata": {},
   "outputs": [
    {
     "name": "stdout",
     "output_type": "stream",
     "text": [
      "No the string is palindrome\n",
      "Yes the string is palindrome\n"
     ]
    }
   ],
   "source": [
    "check_palindrome(a)\n",
    "check_palindrome(b)"
   ]
  },
  {
   "cell_type": "markdown",
   "id": "208489a6-74cd-4fe5-97a6-573f614209e9",
   "metadata": {},
   "source": [
    " 18. Write a Python program to remove duplicates from a list using a for loop."
   ]
  },
  {
   "cell_type": "code",
   "execution_count": 50,
   "id": "2848770a-6408-4beb-ad4a-9b2cb254c517",
   "metadata": {},
   "outputs": [
    {
     "name": "stdout",
     "output_type": "stream",
     "text": [
      "[1, 2, 4]\n"
     ]
    }
   ],
   "source": [
    "l3=[1,2,4,4,4,2]\n",
    "new_l3=list({i for i in l3}) #this will help to remove duplicate\n",
    "print(new_l3)\n",
    "  "
   ]
  },
  {
   "cell_type": "markdown",
   "id": "63f4b7f5-14b7-42ee-a806-2914cb7841ba",
   "metadata": {},
   "source": [
    " 19. Create a Python program that counts the number of words in a sentence using a for loop"
   ]
  },
  {
   "cell_type": "code",
   "execution_count": 56,
   "id": "9f838f71-6068-42c6-a987-af1f7a4723eb",
   "metadata": {},
   "outputs": [
    {
     "name": "stdout",
     "output_type": "stream",
     "text": [
      "Word count: 13\n"
     ]
    }
   ],
   "source": [
    "l=\"my name is Rohit\"\n",
    "count=0\n",
    "for i in l:\n",
    "    if i.isalpha():\n",
    "        count+=1\n",
    "print(\"Word count:\",count)"
   ]
  },
  {
   "cell_type": "markdown",
   "id": "3fb14854-d4a8-4a44-80d8-e22c915f4f04",
   "metadata": {},
   "source": [
    "20. Write a Python program to find the sum of all odd numbers from 1 to 50 using a for loop."
   ]
  },
  {
   "cell_type": "code",
   "execution_count": 57,
   "id": "efccfb47-c13b-46f5-bbd8-93566562ebf2",
   "metadata": {},
   "outputs": [
    {
     "name": "stdout",
     "output_type": "stream",
     "text": [
      "625\n"
     ]
    }
   ],
   "source": [
    "number=list(range(1,51))\n",
    "sum=0\n",
    "for i in number:\n",
    "    if i%2!=0:\n",
    "        sum+=i\n",
    "print(sum)"
   ]
  },
  {
   "cell_type": "markdown",
   "id": "fad015ef-8506-450f-86f5-a788cf92d69c",
   "metadata": {},
   "source": [
    "21. Write a Python program that checks if a given year is a leap year using a for loop."
   ]
  },
  {
   "cell_type": "code",
   "execution_count": 171,
   "id": "f05076f9-09be-4501-ac4e-e3b98e1deb36",
   "metadata": {},
   "outputs": [],
   "source": [
    "def check_leap_year(year):\n",
    "    year_check=[year]\n",
    "    for i in year_check:\n",
    "        if i%4==0 and i%100!=0 or i%100==0:\n",
    "            print(\"the given year is loop year\")\n",
    "        else:\n",
    "            print(\"the given year is not a loop year\")"
   ]
  },
  {
   "cell_type": "code",
   "execution_count": 172,
   "id": "fcf997f7-952e-472b-8eaf-1bf958fbf594",
   "metadata": {},
   "outputs": [
    {
     "name": "stdout",
     "output_type": "stream",
     "text": [
      "the given year is loop year\n"
     ]
    }
   ],
   "source": [
    "check_leap_year(2000)"
   ]
  },
  {
   "cell_type": "markdown",
   "id": "888e0814-624e-4ab5-82be-4628c607b8a3",
   "metadata": {},
   "source": [
    " 22. Create a Python program that calculates the square root of a number using a for loop."
   ]
  },
  {
   "cell_type": "code",
   "execution_count": 86,
   "id": "17363608-a082-4ce7-8075-8a53d44901d3",
   "metadata": {},
   "outputs": [],
   "source": [
    "def check_squareroot(n):\n",
    "    for i in range(1,n+1):\n",
    "        if i*i==n:\n",
    "            return (print(i, \"is the sqaure root of\",n))\n",
    "        elif i*i>n:\n",
    "            return (print(n,\" is not a perfect square\"))"
   ]
  },
  {
   "cell_type": "code",
   "execution_count": 87,
   "id": "1c97525b-3e8a-4241-ae97-2bbda3cc9332",
   "metadata": {},
   "outputs": [
    {
     "name": "stdout",
     "output_type": "stream",
     "text": [
      "17  is not a perfect square\n"
     ]
    }
   ],
   "source": [
    "check_squareroot(17)"
   ]
  },
  {
   "cell_type": "markdown",
   "id": "de6e3c3a-6461-46dd-8a66-d3672c5eb23b",
   "metadata": {},
   "source": [
    " 23. Write a Python program to find the LCM (Least Common Multiple) of two numbers using a for\n",
    " loop"
   ]
  },
  {
   "cell_type": "code",
   "execution_count": 93,
   "id": "34827d48-b1ae-4360-bd6b-0e7a21871a36",
   "metadata": {},
   "outputs": [],
   "source": [
    "a=81\n",
    "b=108\n",
    "def find_lcd(a,b):\n",
    "    common_divisor=[]\n",
    "    for i in range(2,a+b):\n",
    "        if a%i==0 and b%i==0:\n",
    "            common_divisor.append(i)\n",
    "    print(\"The least common divisor is:\",min(common_divisor))"
   ]
  },
  {
   "cell_type": "code",
   "execution_count": 94,
   "id": "9c64d3db-e7a3-4d33-82cf-e98680ed7552",
   "metadata": {},
   "outputs": [
    {
     "name": "stdout",
     "output_type": "stream",
     "text": [
      "The least common divisor is: 3\n"
     ]
    }
   ],
   "source": [
    "find_lcd(a,b)"
   ]
  },
  {
   "cell_type": "markdown",
   "id": "b602cc7b-7bdf-4b82-a4f4-68f71c1f4024",
   "metadata": {},
   "source": [
    "#  If else :\n"
   ]
  },
  {
   "cell_type": "markdown",
   "id": "b67b6ea0-6d5f-4ba1-a711-e6793712bdaf",
   "metadata": {},
   "source": [
    " 1. Write aPython program to check if a number is positive, negative, or zero using an if-else\n",
    " statement."
   ]
  },
  {
   "cell_type": "code",
   "execution_count": 98,
   "id": "14345d02-d90c-4d72-98ac-1ff5ae95d1f3",
   "metadata": {},
   "outputs": [
    {
     "name": "stdin",
     "output_type": "stream",
     "text": [
      "enter a number 3\n"
     ]
    },
    {
     "name": "stdout",
     "output_type": "stream",
     "text": [
      "The given number is positive\n"
     ]
    }
   ],
   "source": [
    "num=int(input(\"enter a number\"))\n",
    "if num<0:\n",
    "    print(\"The given number is negative\")\n",
    "elif num==0:\n",
    "    print(\"The given number is Zero\")\n",
    "else:\n",
    "    print(\"The given number is positive\")"
   ]
  },
  {
   "cell_type": "markdown",
   "id": "8dac1e65-a4a4-4a0b-8d1b-e4b9556bb85a",
   "metadata": {},
   "source": [
    " 2. Create a Python program that checks if a given number is even or odd using an if-else statement"
   ]
  },
  {
   "cell_type": "code",
   "execution_count": 99,
   "id": "f8fe4313-0c61-4e3f-ad89-222a51288ed7",
   "metadata": {},
   "outputs": [],
   "source": [
    "def check_odd_even(n):\n",
    "    if n%2==0:\n",
    "        print(\"The given number is even\")\n",
    "    else:\n",
    "        print(\"The given number is odd\")"
   ]
  },
  {
   "cell_type": "code",
   "execution_count": 100,
   "id": "075badf3-ea11-46ed-a4fc-7d585c8aebc0",
   "metadata": {},
   "outputs": [
    {
     "name": "stdout",
     "output_type": "stream",
     "text": [
      "The given number is odd\n"
     ]
    }
   ],
   "source": [
    "check_odd_even(5)"
   ]
  },
  {
   "cell_type": "markdown",
   "id": "73df726c-2db9-4abf-9692-b59ad3dde83e",
   "metadata": {},
   "source": [
    " 3. Howcanyouusenestedif-else statements in Python, and provide an example?"
   ]
  },
  {
   "cell_type": "code",
   "execution_count": 141,
   "id": "fed59149-6792-4efd-ac9b-533bc593d099",
   "metadata": {},
   "outputs": [
    {
     "name": "stdin",
     "output_type": "stream",
     "text": [
      "enter your size m\n",
      "enter your color black\n"
     ]
    },
    {
     "name": "stdout",
     "output_type": "stream",
     "text": [
      "Your Size is available\n",
      "Your faviourate color and size is available\n"
     ]
    }
   ],
   "source": [
    "size=[\"S\",\"M\",\"L\",\"XL\"]\n",
    "color=[\"White\",\"Black\",\"Blue\",\"Pink\"]\n",
    "user_size=input(\"enter your size\").upper()\n",
    "color_choice=input(\"enter your color\").title()\n",
    "# now we are using if_else statement to check if my size is available or not\n",
    "if user_size in size:\n",
    "    print(\"Your Size is available\")\n",
    "    if color_choice in color:\n",
    "        # with the help of nested if else we will check wheter my favirout color is availalbe or not\n",
    "        print(\"Your faviourate color and size is available\")\n",
    "    else:\n",
    "        print(\"Your faviourate color is not available\")\n",
    "else:\n",
    "    prnt(\"Your size is not available\")"
   ]
  },
  {
   "cell_type": "markdown",
   "id": "882ceea8-15cf-4767-bc65-d0b0797c4fbb",
   "metadata": {},
   "source": [
    " 4. Write aPython program to determine the largest of three numbers using if-else.\n"
   ]
  },
  {
   "cell_type": "code",
   "execution_count": 145,
   "id": "390619f9-741b-429b-8a29-186650b34d57",
   "metadata": {},
   "outputs": [
    {
     "name": "stdout",
     "output_type": "stream",
     "text": [
      "The largest number is-> 5\n"
     ]
    }
   ],
   "source": [
    "a=2\n",
    "b=5\n",
    "c=3\n",
    "\n",
    "if a>b>c:\n",
    "    print(\"The largest number is->\",a)\n",
    "elif b>c>a:\n",
    "    print(\"The largest number is->\",b)\n",
    "else:\n",
    "    print(\"The largest number is->\",c)"
   ]
  },
  {
   "cell_type": "markdown",
   "id": "961180f2-f550-434f-9274-8cac3b896a06",
   "metadata": {},
   "source": [
    " 5. Write aPython program that calculates the absolute value of a number using if-else"
   ]
  },
  {
   "cell_type": "code",
   "execution_count": 146,
   "id": "9bfed25e-7e32-4c2d-b767-e966632a174c",
   "metadata": {},
   "outputs": [
    {
     "name": "stdin",
     "output_type": "stream",
     "text": [
      "enter a number to check absolute value 3\n"
     ]
    },
    {
     "name": "stdout",
     "output_type": "stream",
     "text": [
      "Absoulte value: 3\n"
     ]
    }
   ],
   "source": [
    "n=int(input(\"enter a number to check absolute value\"))\n",
    "if n<0:\n",
    "    print(\"Absoulte value:\", -n)\n",
    "else:\n",
    "    print (\"Absoulte value:\",n)"
   ]
  },
  {
   "cell_type": "markdown",
   "id": "f8733443-ed33-4cde-bc87-61b4ea7d272b",
   "metadata": {},
   "source": [
    "6. Create a Python program that checks if a given character is a vowel or consonant using if-else"
   ]
  },
  {
   "cell_type": "code",
   "execution_count": 150,
   "id": "4501e35b-4bc9-4b58-bd5f-fd9b18f3f0e4",
   "metadata": {},
   "outputs": [],
   "source": [
    "def check_vowel_consonent(a):\n",
    "    vowel=\"aeiouAEIOU\"\n",
    "    if a.isalpha():\n",
    "        if a in vowel:\n",
    "            print(a, \"is a vowel\")\n",
    "        else:\n",
    "            print(a, \"is a consonant\")\n",
    "    else:\n",
    "        print(\"Please enter alphabet to check vowel or consonant\")"
   ]
  },
  {
   "cell_type": "code",
   "execution_count": 153,
   "id": "477f24c9-ca26-4c94-afce-f4ec50081ec1",
   "metadata": {},
   "outputs": [
    {
     "name": "stdout",
     "output_type": "stream",
     "text": [
      "a is a vowel\n"
     ]
    }
   ],
   "source": [
    "check_vowel_consonent(\"a\")"
   ]
  },
  {
   "cell_type": "markdown",
   "id": "1010cb77-608c-4f04-9bde-60cac8684a64",
   "metadata": {},
   "source": [
    " 7. Write aPython program to determine if a user is eligible to vote based on their age using if-else"
   ]
  },
  {
   "cell_type": "code",
   "execution_count": 154,
   "id": "40abc90d-1cf2-491a-861f-3f3bb121050a",
   "metadata": {},
   "outputs": [
    {
     "name": "stdin",
     "output_type": "stream",
     "text": [
      "please enter your age 99\n"
     ]
    },
    {
     "name": "stdout",
     "output_type": "stream",
     "text": [
      "Congrats!! you are eligible for Vote\n"
     ]
    }
   ],
   "source": [
    "age=int(input(\"please enter your age\"))\n",
    "if age<18:\n",
    "    print(\"Sorry!!! you are not eligible for Vote\")\n",
    "else:\n",
    "    print(\"Congrats!! you are eligible for Vote\")"
   ]
  },
  {
   "cell_type": "markdown",
   "id": "7981029a-b5c4-4bf2-8d19-c4b91417fd6f",
   "metadata": {},
   "source": [
    " 8. Create a Python program that calculates the discount amount based on the purchase amount\n",
    " using if-else."
   ]
  },
  {
   "cell_type": "code",
   "execution_count": 157,
   "id": "23044743-8100-486a-8cf0-b12dc972b1ad",
   "metadata": {},
   "outputs": [
    {
     "name": "stdin",
     "output_type": "stream",
     "text": [
      "Enter purchase amount 2500\n"
     ]
    },
    {
     "name": "stdout",
     "output_type": "stream",
     "text": [
      "Your final price after discount of 300: 2200 Rs.\n"
     ]
    }
   ],
   "source": [
    "purchase_amount=int(input(\"Enter purchase amount\"))\n",
    "if purchase_amount<2499:\n",
    "    print(\"Your final price after discount of 150:\", purchase_amount-150,\"Rs.\")\n",
    "elif 2499<purchase_amount<=3499:\n",
    "    print(\"Your final price after discount of 300:\", purchase_amount-300,\"Rs.\")\n",
    "elif 3499<purchase_amount<=4999:\n",
    "    print(\"Your final price after discount of 500:\", purchase_amount-500,\"Rs.\")\n",
    "else:\n",
    "    print(\"to get discount on product add more items\")"
   ]
  },
  {
   "cell_type": "markdown",
   "id": "381ee872-751f-49b4-983a-d4133ddf74df",
   "metadata": {},
   "source": [
    " 9. Write aPython program to check if a number is within a specified range using if-else."
   ]
  },
  {
   "cell_type": "code",
   "execution_count": 158,
   "id": "3c772e50-4fa8-426f-b673-840df00a5b15",
   "metadata": {},
   "outputs": [],
   "source": [
    "def is_in_range(n,start,end):\n",
    "    #n- is a place to enter number\n",
    "    #start is a starting point of range and end is a last point of range\n",
    "    if start<=n<=end:\n",
    "        print(n, \"is within a range of\",start,\"to\",end)\n",
    "    else:\n",
    "        print(n, \"is not within a range of\",start,\"to\",end)"
   ]
  },
  {
   "cell_type": "code",
   "execution_count": 159,
   "id": "1b133dca-bf49-4de0-852c-5d598241dca3",
   "metadata": {},
   "outputs": [
    {
     "name": "stdout",
     "output_type": "stream",
     "text": [
      "2 is within a range of 0 to 12\n"
     ]
    }
   ],
   "source": [
    "is_in_range(2,0,12)"
   ]
  },
  {
   "cell_type": "markdown",
   "id": "dad03e7c-721d-4b06-9f7a-09d20e35495e",
   "metadata": {},
   "source": [
    "10. Create a Python program that determines the grade of a student based on their score using\n",
    " if-else."
   ]
  },
  {
   "cell_type": "code",
   "execution_count": 160,
   "id": "3f07c136-3ede-4155-aecb-e66802042555",
   "metadata": {},
   "outputs": [
    {
     "name": "stdin",
     "output_type": "stream",
     "text": [
      "Please enter student's score 88\n"
     ]
    },
    {
     "name": "stdout",
     "output_type": "stream",
     "text": [
      "Congratulation!!! Your grade is: A\n"
     ]
    }
   ],
   "source": [
    "score=int(input(\"Please enter student's score\"))\n",
    "if score>=85:\n",
    "    print(\"Congratulation!!! Your grade is: A\")\n",
    "elif 65<=score<85:\n",
    "    print(\"Congratulation!!! Your grade is: B\")\n",
    "elif 35<=score<65:\n",
    "    print(\"Congratulation!!! Your grade is: C\")\n",
    "else:\n",
    "    print(\"Sorry you are fail!!!\")"
   ]
  },
  {
   "cell_type": "markdown",
   "id": "271fcecb-7949-42b3-a818-ca098fb95353",
   "metadata": {},
   "source": [
    " 11. Write a Python program to check if a string is empty or not using if-else"
   ]
  },
  {
   "cell_type": "code",
   "execution_count": 162,
   "id": "ff8404eb-981c-4ed0-8dc6-a003e14bbe43",
   "metadata": {},
   "outputs": [],
   "source": [
    "def is_empty(str1):\n",
    "    if str1:\n",
    "        print(\"The string is not an empty\")\n",
    "    else:\n",
    "        print(\"String is empty\")"
   ]
  },
  {
   "cell_type": "code",
   "execution_count": 163,
   "id": "4ee635a8-6466-4f13-a5a6-a0dc9efa012f",
   "metadata": {},
   "outputs": [
    {
     "name": "stdout",
     "output_type": "stream",
     "text": [
      "String is empty\n",
      "The string is not an empty\n"
     ]
    }
   ],
   "source": [
    "str1=\"\"\n",
    "str2=\"a\"\n",
    "is_empty(str1)\n",
    "is_empty(str2)"
   ]
  },
  {
   "cell_type": "markdown",
   "id": "aab68136-7a98-412c-88a4-7959d28f76e3",
   "metadata": {},
   "source": [
    " 12. Create a Python program that identifies the type of a triangle (e.g., equilateral, isosceles, or\n",
    " scalene) based on input values using if-else."
   ]
  },
  {
   "cell_type": "code",
   "execution_count": 164,
   "id": "4f17a1d3-2a71-47f5-b097-1d5c38d63f21",
   "metadata": {},
   "outputs": [
    {
     "name": "stdin",
     "output_type": "stream",
     "text": [
      "enter length of 1st side of triangle 10\n",
      "enter length of 2nd side of triangle 12\n",
      "enter length of 3rd side of triangle 19\n"
     ]
    },
    {
     "name": "stdout",
     "output_type": "stream",
     "text": [
      "Triangle type: Scalene Triangle\n"
     ]
    }
   ],
   "source": [
    "x=int(input(\"enter length of 1st side of triangle\"))\n",
    "y=int(input(\"enter length of 2nd side of triangle\"))\n",
    "z=int(input(\"enter length of 3rd side of triangle\"))\n",
    "if x==y==z:\n",
    "    print(\"Triangle type: Equilateral Triangle\")\n",
    "elif x==y or y==z or z==x:\n",
    "    print(\"Triangle type: Isosceles Triangle\")\n",
    "elif x!=y!=z:\n",
    "    print(\"Triangle type: Scalene Triangle\")"
   ]
  },
  {
   "cell_type": "markdown",
   "id": "5c4f2553-bf53-41b0-8eb7-66b7b43cc9b6",
   "metadata": {},
   "source": [
    " 13. Write a Python program to determine the day of the week based on a user-provided number\n",
    " using if-else"
   ]
  },
  {
   "cell_type": "code",
   "execution_count": 166,
   "id": "f732caea-e686-44ba-b81a-fa4cd9aa51c8",
   "metadata": {},
   "outputs": [
    {
     "name": "stdin",
     "output_type": "stream",
     "text": [
      "enter 1-7 day of week- 5\n"
     ]
    },
    {
     "name": "stdout",
     "output_type": "stream",
     "text": [
      "5 th Day is: Friday\n"
     ]
    }
   ],
   "source": [
    "number_of_day=int(input(\"enter 1-7 day of week-\"))\n",
    "if number_of_day ==1:\n",
    "    print(number_of_day,\"th Day is: Monday\")\n",
    "elif number_of_day==2:\n",
    "    print(number_of_day,\"th Day is:  Tuesday\")\n",
    "elif number_of_day==3:\n",
    "    print(number_of_day,\"th Day is: Wednesday\")\n",
    "elif number_of_day==4:\n",
    "    print(number_of_day,\"th Day is: Thursday\")\n",
    "elif number_of_day==5:\n",
    "    print(number_of_day,\"th Day is: Friday\")\n",
    "elif number_of_day==6:\n",
    "    print(number_of_day,\"th Day is: Saturday\")\n",
    "elif number_of_day==7:\n",
    "    print(number_of_day,\"th Day is: Sunday\")\n",
    "else:\n",
    "    print(\"Please enter number between 1 to 7\")"
   ]
  },
  {
   "cell_type": "markdown",
   "id": "2b97ae4b-a714-4ffa-893e-1f5408f17881",
   "metadata": {},
   "source": [
    "14. Create a Python program that checks if a given year is a leap year using both if-else and a\n",
    " function."
   ]
  },
  {
   "cell_type": "code",
   "execution_count": 173,
   "id": "c00a75e0-8791-44b7-82b1-4f7027b290dc",
   "metadata": {},
   "outputs": [],
   "source": [
    "def is_leap_year(year):\n",
    "        if year%4==0 and year%100!=0 or year%100==0:\n",
    "            print(\"the given year is loop year\")\n",
    "        else:\n",
    "            print(\"the given year is not a loop year\")"
   ]
  },
  {
   "cell_type": "code",
   "execution_count": 174,
   "id": "450a331e-2070-48f7-98de-fc386d1e9b72",
   "metadata": {},
   "outputs": [
    {
     "name": "stdout",
     "output_type": "stream",
     "text": [
      "the given year is loop year\n"
     ]
    }
   ],
   "source": [
    "is_leap_year(2024)"
   ]
  },
  {
   "cell_type": "markdown",
   "id": "5c2c3b4c-98cc-45f0-a2e1-f66472eed5b8",
   "metadata": {},
   "source": [
    "15. How do you use the\"assert\" statement in Python to add debugging checks within if-else blocks?"
   ]
  },
  {
   "cell_type": "code",
   "execution_count": 179,
   "id": "2d38b1f4-4ce0-4702-941f-459ba6128978",
   "metadata": {},
   "outputs": [
    {
     "ename": "AssertionError",
     "evalue": "Zero division error",
     "output_type": "error",
     "traceback": [
      "\u001b[1;31m---------------------------------------------------------------------------\u001b[0m",
      "\u001b[1;31mAssertionError\u001b[0m                            Traceback (most recent call last)",
      "Cell \u001b[1;32mIn[179], line 4\u001b[0m\n\u001b[0;32m      1\u001b[0m a\u001b[38;5;241m=\u001b[39m\u001b[38;5;241m1\u001b[39m\n\u001b[0;32m      2\u001b[0m b\u001b[38;5;241m=\u001b[39m\u001b[38;5;241m0\u001b[39m\n\u001b[1;32m----> 4\u001b[0m \u001b[38;5;28;01massert\u001b[39;00m b\u001b[38;5;241m!=\u001b[39m\u001b[38;5;241m0\u001b[39m, \u001b[38;5;124m\"\u001b[39m\u001b[38;5;124mZero division error\u001b[39m\u001b[38;5;124m\"\u001b[39m\n\u001b[0;32m      5\u001b[0m \u001b[38;5;28mprint\u001b[39m(a\u001b[38;5;241m/\u001b[39mb)\n",
      "\u001b[1;31mAssertionError\u001b[0m: Zero division error"
     ]
    }
   ],
   "source": [
    "a=1\n",
    "b=0\n",
    "\n",
    "assert b!=0, \"Zero division error\"\n",
    "print(a/b)"
   ]
  },
  {
   "cell_type": "markdown",
   "id": "82f2f73e-fc00-4fcb-b620-7de39b7ff14d",
   "metadata": {},
   "source": [
    " 16. Create a Python program that determines the eligibility of a person for a senior citizen discount\n",
    " based on age using if-else."
   ]
  },
  {
   "cell_type": "code",
   "execution_count": 181,
   "id": "ffebadb6-cfc5-4cec-a4ee-b7f9004306cc",
   "metadata": {},
   "outputs": [
    {
     "name": "stdin",
     "output_type": "stream",
     "text": [
      "enter your age 25\n"
     ]
    },
    {
     "name": "stdout",
     "output_type": "stream",
     "text": [
      "No the person is not a senior citizen hence not eligible for senior citizen discount\n"
     ]
    }
   ],
   "source": [
    "Age=int(input(\"enter your age\"))\n",
    "is_senior_citizen= Age>65\n",
    "if is_senior_citizen:\n",
    "    print(\"yes the person is eligible for senior citizen discount\")\n",
    "else:\n",
    "    print(\"No the person is not a senior citizen hence not eligible for senior citizen discount\")"
   ]
  },
  {
   "cell_type": "markdown",
   "id": "2954549a-b09d-4d3a-a834-2808f3f9658b",
   "metadata": {},
   "source": [
    "17. Write a Python program to categorize a given character as uppercase, lowercase, or neither\n",
    " using if-else."
   ]
  },
  {
   "cell_type": "code",
   "execution_count": 182,
   "id": "e79acd45-3b35-4c13-b332-34b4f4f3fec2",
   "metadata": {},
   "outputs": [],
   "source": [
    "def check_character(char):\n",
    "    if char.isupper():\n",
    "        print(\"The character is uppercase\")\n",
    "    elif char.islower():\n",
    "        print(\"The character is lowercase\")\n",
    "    else:\n",
    "        print(\"The charact is not a uppercase neither lowercase\")"
   ]
  },
  {
   "cell_type": "code",
   "execution_count": 187,
   "id": "6c6cb730-a373-489a-a9d1-7bb329e550a8",
   "metadata": {},
   "outputs": [
    {
     "name": "stdout",
     "output_type": "stream",
     "text": [
      "The character is uppercase\n"
     ]
    }
   ],
   "source": [
    "check_character(\"R\")"
   ]
  },
  {
   "cell_type": "markdown",
   "id": "58c65208-2f73-4daf-b0be-c3f73a829835",
   "metadata": {},
   "source": [
    "18. Write a Python program to determine the roots of a quadratic equation using if-else."
   ]
  },
  {
   "cell_type": "code",
   "execution_count": 189,
   "id": "6045459c-ba18-48c7-bb7e-77d33857e2dc",
   "metadata": {},
   "outputs": [
    {
     "name": "stdin",
     "output_type": "stream",
     "text": [
      "please enter a value of quadratic equation: 10\n",
      "please enter a value of quadratic equation: 30\n",
      "please enter a value of quadratic equation: 16\n"
     ]
    },
    {
     "name": "stdout",
     "output_type": "stream",
     "text": [
      "there are two roots exists: root1=-29.19 and root2=-30.81\n"
     ]
    }
   ],
   "source": [
    "from math import sqrt\n",
    "\n",
    "a= float(input(\"please enter a value of quadratic equation:\"))\n",
    "b= float(input(\"please enter a value of quadratic equation:\"))\n",
    "c= float(input(\"please enter a value of quadratic equation:\"))\n",
    "\n",
    "discriminant=(b*b)-(4*a*c)\n",
    "\n",
    "if discriminant>0:\n",
    "    root1=(-b+sqrt(discriminant)/(2*a))\n",
    "    root2=(-b-sqrt(discriminant)/(2*a))\n",
    "    print(\"there are two roots exists: root1=%.2f and root2=%.2f\"%(root1,root2))\n",
    "elif discriminant==0:\n",
    "    root1=(-b)/2*a\n",
    "    print(\"there is one root\", root1)\n",
    "else:\n",
    "    print(\"No roots, discriminant <0\")"
   ]
  },
  {
   "cell_type": "markdown",
   "id": "3d21896e-1b41-4536-9fd9-a40470b22106",
   "metadata": {},
   "source": [
    " 19. Create a Python program that checks if a given year is a century year or not using if-else"
   ]
  },
  {
   "cell_type": "code",
   "execution_count": 190,
   "id": "1b15b908-d1ba-4942-824a-6133a2d44594",
   "metadata": {},
   "outputs": [
    {
     "name": "stdin",
     "output_type": "stream",
     "text": [
      "enter year 2000\n"
     ]
    },
    {
     "name": "stdout",
     "output_type": "stream",
     "text": [
      "The given year is a century year\n"
     ]
    }
   ],
   "source": [
    "year=int(input(\"enter year\"))\n",
    "if year%100==0:\n",
    "    print(\"The given year is a century year\")\n",
    "else:\n",
    "    print(\"The given year is not a century year\")"
   ]
  },
  {
   "cell_type": "markdown",
   "id": "af5a66cd-6883-481d-abf2-338b150d1170",
   "metadata": {},
   "source": [
    " 20. Write a Python program to determine if a given number is a perfect square using if-else"
   ]
  },
  {
   "cell_type": "code",
   "execution_count": 193,
   "id": "d5c16da0-ac85-48c8-a494-35d1ef430c6b",
   "metadata": {},
   "outputs": [],
   "source": [
    "def is_square(n,start=1):\n",
    "    if start>n:\n",
    "        print(n,\"is not a perfect square\")\n",
    "    elif start*start==n:\n",
    "        print(n,\"is a perfect square\")\n",
    "    else:\n",
    "        return is_square(n,start+1)"
   ]
  },
  {
   "cell_type": "code",
   "execution_count": 196,
   "id": "5b599b3c-f015-43ef-80dd-8b7d392000e0",
   "metadata": {},
   "outputs": [
    {
     "name": "stdout",
     "output_type": "stream",
     "text": [
      "16 is a perfect square\n"
     ]
    }
   ],
   "source": [
    "is_square(16)"
   ]
  },
  {
   "cell_type": "markdown",
   "id": "c59f84b7-616d-4b03-ada4-78eb1ac1b8c7",
   "metadata": {},
   "source": [
    "21. Explain the purpose of the \"continue\" and \"break\" statements within if-else loops."
   ]
  },
  {
   "cell_type": "code",
   "execution_count": 206,
   "id": "f9e668ca-ec4b-4531-a4df-68db2aa1b5ba",
   "metadata": {},
   "outputs": [
    {
     "name": "stdout",
     "output_type": "stream",
     "text": [
      "example of continue we skipped the 3 with help of continue\n",
      "1,2,4,5,\n",
      "example of break to terminate loop\n",
      "1,2,3,4,"
     ]
    }
   ],
   "source": [
    "#conitinue - the purpose of continue is to skip particular condition while iterating element in loop\n",
    "#example\n",
    "a=[1,2,3,4,5]\n",
    "#we can skip 3 and print remaining element with help of continue\n",
    "print(\"example of continue we skipped the 3 with help of continue\")\n",
    "for i in a:\n",
    "    if i==3:\n",
    "        continue\n",
    "    else:\n",
    "        print(i,end=\",\")\n",
    "\n",
    "#break - the use of break is to terminate loop\n",
    "#example\n",
    "print(\"\\nexample of break to terminate loop\")\n",
    "for i in a:\n",
    "    if i>4:\n",
    "        #if this condition is true the loop will break\n",
    "        break\n",
    "    else:\n",
    "        print(i,end=\",\")\n",
    "        \n"
   ]
  },
  {
   "cell_type": "markdown",
   "id": "c7786c0f-6bd2-4892-902a-5e1f72ba2de7",
   "metadata": {},
   "source": [
    " 22. Create a Python program that calculates the BMI (Body Mass Index) of a person based on their\n",
    " weight and height using if-else."
   ]
  },
  {
   "cell_type": "code",
   "execution_count": 210,
   "id": "7a4eb517-3e60-4712-96d4-92f6b691ff16",
   "metadata": {},
   "outputs": [
    {
     "name": "stdin",
     "output_type": "stream",
     "text": [
      "Enter your height in meters:  1.6\n",
      "Enter your weight in kilograms:  80\n"
     ]
    },
    {
     "name": "stdout",
     "output_type": "stream",
     "text": [
      "Your BMI is 31.25. You are very overweight.\n"
     ]
    }
   ],
   "source": [
    "height = float(input(\"Enter your height in meters: \"))\n",
    "weight = float(input(\"Enter your weight in kilograms: \"))\n",
    "\n",
    "bmi = weight / (height ** 2)\n",
    "\n",
    "if bmi <= 0:\n",
    "    print(\"Please enter valid details.\")\n",
    "elif bmi <= 16:\n",
    "    print(f\"Your BMI is {bmi:.2f}. You are very underweight.\")\n",
    "elif bmi <= 18.5:\n",
    "    print(f\"Your BMI is {bmi:.2f}. You are underweight.\")\n",
    "elif bmi <= 25:\n",
    "    print(f\"Your BMI is {bmi:.2f}. You are healthy.\")\n",
    "elif bmi <= 30:\n",
    "    print(f\"Your BMI is {bmi:.2f}. You are overweight.\")\n",
    "else:\n",
    "    print(f\"Your BMI is {bmi:.2f}. You are very overweight.\")"
   ]
  },
  {
   "cell_type": "markdown",
   "id": "268417c8-c63a-4260-997a-cdca902a13e4",
   "metadata": {},
   "source": [
    " 23. Howcanyouusethe \"filter()\" function with if-else statements to filter elements from a list?"
   ]
  },
  {
   "cell_type": "code",
   "execution_count": 199,
   "id": "e2d99811-4bfd-4668-a3c6-4f62dd3a8c17",
   "metadata": {},
   "outputs": [
    {
     "name": "stdout",
     "output_type": "stream",
     "text": [
      "Even list: [2, 4, 6, 8]\n"
     ]
    }
   ],
   "source": [
    "def check_even(n):\n",
    "    if n%2==0:\n",
    "        return n\n",
    "\n",
    "list2=[1,2,4,3,5,6,7,8,9]\n",
    "filtered=list(filter(check_even,list2))\n",
    "print(\"Even list:\",filtered)"
   ]
  },
  {
   "cell_type": "markdown",
   "id": "6bc4e3b6-3d49-4925-a587-9487ee993611",
   "metadata": {},
   "source": [
    " 24. Write a Python program to determine if a given number is prime or not using if-else."
   ]
  },
  {
   "cell_type": "code",
   "execution_count": 42,
   "id": "db760132-94be-41f4-a516-a4925a1e997e",
   "metadata": {},
   "outputs": [],
   "source": [
    "def check_prime(n,start=2):\n",
    "    if start<n and n%start==0 or n==1:\n",
    "        print(\"The given number is not a prime number\")\n",
    "    elif start==n:\n",
    "        print(\"The given number is prime nubmer\")\n",
    "    else:\n",
    "        return check_prime(n,start+1)"
   ]
  },
  {
   "cell_type": "code",
   "execution_count": 43,
   "id": "ef734a72-004e-4063-a41b-32a7de8d5ab1",
   "metadata": {},
   "outputs": [
    {
     "name": "stdout",
     "output_type": "stream",
     "text": [
      "The given number is not a prime number\n"
     ]
    }
   ],
   "source": [
    "check_prime(4)"
   ]
  },
  {
   "cell_type": "markdown",
   "id": "5081ff3b-aa8a-4115-8de1-5ee8022a855e",
   "metadata": {},
   "source": [
    "#  Map:\n"
   ]
  },
  {
   "cell_type": "markdown",
   "id": "24985ebd-369b-4eff-86d3-6a35901474e8",
   "metadata": {},
   "source": [
    "1. Explain the purpose of the `map()` function in Python and provide an example of how it can be\n",
    " used to apply a function to each element of an iterable."
   ]
  },
  {
   "cell_type": "code",
   "execution_count": 49,
   "id": "f9494dfc-6821-4334-9201-0e6a5fb0d8f6",
   "metadata": {},
   "outputs": [
    {
     "name": "stdout",
     "output_type": "stream",
     "text": [
      "[4, 9, 16, 25, 36, 49, 64]\n"
     ]
    }
   ],
   "source": [
    "#Answer with the help of map() we can apply function to every item of iterable\n",
    "# for example we want to to convert each number from list to its square\n",
    "l1=[2,3,4,5,6,7,8]\n",
    "b=lambda x: x**2\n",
    "square=list(map(b,l1)) # map(1st we put function,2nd we have to put iterable item)\n",
    "print(square)"
   ]
  },
  {
   "cell_type": "markdown",
   "id": "255221d3-0ca2-48df-975c-6bb2378eee63",
   "metadata": {},
   "source": [
    "2. Write aPython program that uses the `map()` function to square each element of a list of\n",
    " numbers."
   ]
  },
  {
   "cell_type": "code",
   "execution_count": 51,
   "id": "c66856a1-8393-4420-8473-de6a181489c2",
   "metadata": {},
   "outputs": [
    {
     "name": "stdout",
     "output_type": "stream",
     "text": [
      "list of square: [4, 9, 16, 25, 36, 49, 64]\n"
     ]
    }
   ],
   "source": [
    "l1=[2,3,4,5,6,7,8]\n",
    "b=lambda x: x**2\n",
    "square=list(map(b,l1)) \n",
    "print(\"list of square:\",square)"
   ]
  },
  {
   "cell_type": "markdown",
   "id": "bd6961de-81ff-4c65-866d-ec36eb61c8ba",
   "metadata": {},
   "source": [
    "3. Howdoesthe`map()` function differ from a list comprehension in Python, and when would you\n",
    " choose one over the other?"
   ]
  },
  {
   "cell_type": "code",
   "execution_count": 3,
   "id": "9ff51257-d85d-484e-8760-f6102f82cb1f",
   "metadata": {},
   "outputs": [
    {
     "data": {
      "text/plain": [
       "' List comprehension and map both is used to manipulate data\\nlist comprehension is more readable as compared to map function with lambda.\\nlist comprehension can be used for more complex condition while map() is used for a specific condition.\\nlist comprehension is more faster for simple operation unlike in map() we have to call other function for each element.\\n\\ni will use list comprehension when need to filter out more comlex condition and will use map() when i want to apply specific condition for each element and i want return as iterator'"
      ]
     },
     "execution_count": 3,
     "metadata": {},
     "output_type": "execute_result"
    }
   ],
   "source": [
    "#answer \n",
    "''' List comprehension and map both is used to manipulate data\n",
    "list comprehension is more readable as compared to map function with lambda.\n",
    "list comprehension can be used for more complex condition while map() is used for a specific condition.\n",
    "list comprehension is more faster for simple operation unlike in map() we have to call other function for each element.\n",
    "\n",
    "i will use list comprehension when need to filter out more comlex condition and will use map() when i want to apply specific condition for each element and i want return as iterator'''"
   ]
  },
  {
   "cell_type": "markdown",
   "id": "a31c8a44-145d-479c-8f7a-d320a775186e",
   "metadata": {},
   "source": [
    " 4. Create a Python program that uses the `map()` function to convert a list of names to uppercase."
   ]
  },
  {
   "cell_type": "code",
   "execution_count": 54,
   "id": "7abd96e3-cb93-4fe1-900a-4b24693e245b",
   "metadata": {},
   "outputs": [
    {
     "name": "stdout",
     "output_type": "stream",
     "text": [
      "['ROHIT', 'DEVAL', 'MAMTA']\n"
     ]
    }
   ],
   "source": [
    "l3=['Rohit','Deval','mamta']\n",
    "c=list(map(lambda x: x.upper(),l3))\n",
    "print(c)"
   ]
  },
  {
   "cell_type": "markdown",
   "id": "e27fa855-a654-407f-89b5-b0ec89539efb",
   "metadata": {},
   "source": [
    " 5. Write aPython program that uses the `map()` function to calculate the length of each word in a\n",
    " list of strings."
   ]
  },
  {
   "cell_type": "code",
   "execution_count": 94,
   "id": "23723c0e-32b0-4c49-bf52-fda0f9b1fd2f",
   "metadata": {},
   "outputs": [
    {
     "name": "stdout",
     "output_type": "stream",
     "text": [
      "The word and its length ['Rohit: 5', 'Deval: 5', 'mam: 3']\n"
     ]
    }
   ],
   "source": [
    "l3=['Rohit','Deval','mam']\n",
    "count_length=list(map(lambda x: x+ \": \" + str(len(x)),l3))\n",
    "print(\"The word and its length\",count_length)"
   ]
  },
  {
   "cell_type": "markdown",
   "id": "cd30af72-842f-46d0-bf34-6da1886bd3f5",
   "metadata": {},
   "source": [
    "6. How can you use the`map()` function to apply a custom function to elements of multiple lists\n",
    " simultaneously in Python?"
   ]
  },
  {
   "cell_type": "code",
   "execution_count": 39,
   "id": "95b3f243-0ea9-46b3-b528-6c249305a1c5",
   "metadata": {},
   "outputs": [
    {
     "name": "stdout",
     "output_type": "stream",
     "text": [
      "[6, 2, 8, 4, 10]\n"
     ]
    }
   ],
   "source": [
    "#with the help of map() we can pass n_number of iterable items to apply function in multiple list simultaneously\n",
    "#for example i can filter out even number for two list\n",
    "a=[1,2,3,4,5]\n",
    "b=[6,7,8,9,10]\n",
    "def get_even(*n):# here i have created the funciton to find even number\n",
    "    for i in n:\n",
    "        if i%2==0:\n",
    "            return i\n",
    "even= list(map(get_even,a,b)) #with the help of map funciton we are applying function to two list\n",
    "print(even)"
   ]
  },
  {
   "cell_type": "markdown",
   "id": "1cbf8377-363a-4615-8aa6-90c38e12387d",
   "metadata": {},
   "source": [
    "7. Create a Python program that uses `map()` to convert a list of temperatures from Celsius to\n",
    " Fahrenheit."
   ]
  },
  {
   "cell_type": "code",
   "execution_count": 100,
   "id": "c0d82422-293a-49a1-be62-1c4b138ab346",
   "metadata": {},
   "outputs": [
    {
     "name": "stdout",
     "output_type": "stream",
     "text": [
      "temperatures from Celsius to Fahrenheit: [77.0, 84.2, 80.6, 86.0, 104.0]\n"
     ]
    }
   ],
   "source": [
    "celsius=[25,29,27,30,40]\n",
    "Fahreheit= list(map(lambda x: (x * 1.8) + 32,celsius))\n",
    "print(\"temperatures from Celsius to Fahrenheit:\",Fahreheit)"
   ]
  },
  {
   "cell_type": "markdown",
   "id": "7a7c24fc-2b8c-4d00-af52-7825fe891ea2",
   "metadata": {},
   "source": [
    " 8. Write aPython program that uses the `map()` function to round each element of a list of\n",
    " floating-point numbers to the nearest integer."
   ]
  },
  {
   "cell_type": "code",
   "execution_count": 104,
   "id": "8e0174b8-5b18-4f0b-bd39-eb83033d4a81",
   "metadata": {},
   "outputs": [
    {
     "name": "stdout",
     "output_type": "stream",
     "text": [
      "converted float to nearest int: [1, 3, 3, 4]\n"
     ]
    }
   ],
   "source": [
    "float_list=[1.23,2.9245,3.455,4.1]\n",
    "round_whole=list(map(lambda x:round(x),float_list))\n",
    "print(\"converted float to nearest int:\",round_whole)"
   ]
  },
  {
   "cell_type": "markdown",
   "id": "64580188-0939-4c72-b7b8-50ad6bb2533d",
   "metadata": {},
   "source": [
    "# Reduce "
   ]
  },
  {
   "cell_type": "markdown",
   "id": "80528d5a-e7e7-4dfc-a510-e8dd4da06be5",
   "metadata": {},
   "source": [
    "1. Whatisthe`reduce()` function in Python, and what module should you import to use it? Provide\n",
    " an example of its basic usage."
   ]
  },
  {
   "cell_type": "code",
   "execution_count": 45,
   "id": "ecc6cdaa-2e32-4fd9-b7cd-52cea40fa330",
   "metadata": {},
   "outputs": [
    {
     "name": "stdout",
     "output_type": "stream",
     "text": [
      "maximum: 7\n"
     ]
    }
   ],
   "source": [
    "from functools import reduce #from functools module we import reduce\n",
    "# reduce function is very easy to use for example we can find maximum number with applying redue\n",
    "list1=[1,2,3,7,4,3]\n",
    "largest=reduce(lambda x,y: x if x>y else y,list1) \n",
    "# here with the help of reduce we are checking 1st only two index and whichever is largest number is stored in result and then moved to next index until \n",
    "# the end of list and we will get maximum valu\n",
    "print(\"maximum:\",largest)"
   ]
  },
  {
   "cell_type": "markdown",
   "id": "0ec24c90-c151-4b6f-85e7-813d6750eaec",
   "metadata": {},
   "source": [
    "2. Write aPython program that uses the `reduce()` function to find the product of all elements in a list."
   ]
  },
  {
   "cell_type": "code",
   "execution_count": 49,
   "id": "c88e5688-c8b0-4b8d-ba27-51944196a740",
   "metadata": {},
   "outputs": [
    {
     "name": "stdout",
     "output_type": "stream",
     "text": [
      "Product of all element: 120\n"
     ]
    }
   ],
   "source": [
    "from functools import reduce\n",
    "l2=[3,4,2,1,5]\n",
    "result=reduce(lambda x,y: x*y,l2)\n",
    "print(\"Product of all element:\",result)"
   ]
  },
  {
   "cell_type": "code",
   "execution_count": null,
   "id": "410db667-7fcb-4ab6-bce5-a53ee5d263bd",
   "metadata": {},
   "outputs": [],
   "source": [
    " 3. Create a Python program that uses `reduce()` to find the maximum element in a list of numbers"
   ]
  },
  {
   "cell_type": "code",
   "execution_count": 50,
   "id": "24da0d15-355b-4a2c-b459-a8fb517c3461",
   "metadata": {},
   "outputs": [
    {
     "name": "stdout",
     "output_type": "stream",
     "text": [
      "maximum: 7\n"
     ]
    }
   ],
   "source": [
    "from functools import reduce\n",
    "list1=[1,2,3,7,4,3]\n",
    "maximum=reduce(lambda x,y: x if x>y else y,list1) \n",
    "print(\"maximum:\",maximum)"
   ]
  },
  {
   "cell_type": "markdown",
   "id": "f5dca58c-d314-477f-b749-66abf51cd881",
   "metadata": {},
   "source": [
    " 4. How can you use the`reduce()` function to concatenate a list of strings into a single string?"
   ]
  },
  {
   "cell_type": "code",
   "execution_count": 56,
   "id": "43cb8a78-81cd-4c48-a7c6-7ad7d311dd0f",
   "metadata": {},
   "outputs": [
    {
     "name": "stdout",
     "output_type": "stream",
     "text": [
      "['my name is Rohit.']\n"
     ]
    }
   ],
   "source": [
    "from functools import reduce\n",
    "a=['my','name','is','Rohit.']\n",
    "single_string=[reduce(lambda x,y: x+\" \"+y,a)]\n",
    "print(single_string)"
   ]
  },
  {
   "cell_type": "markdown",
   "id": "d4c1d6a9-f4c4-4286-b4a2-af7a6b721a54",
   "metadata": {},
   "source": [
    " 5. Write aPython program that calculates the factorial of a number using the `reduce()` function."
   ]
  },
  {
   "cell_type": "code",
   "execution_count": 57,
   "id": "7dead58f-1bba-4e41-ac04-d87d9f1bc65b",
   "metadata": {},
   "outputs": [
    {
     "name": "stdout",
     "output_type": "stream",
     "text": [
      "The factorial of 5 is 120\n"
     ]
    }
   ],
   "source": [
    "from functools import reduce\n",
    "number=5\n",
    "factorial=reduce(lambda x,y:x*y,range(1,number+1))\n",
    "print(f\"The factorial of {number} is {factorial}\")"
   ]
  },
  {
   "cell_type": "markdown",
   "id": "71f67412-5b76-4df6-97b9-382967ec967c",
   "metadata": {},
   "source": [
    "6. Create a Python program that uses `reduce()` to find the GCD (Greatest Common Divisor) of a list\n",
    " of numbers."
   ]
  },
  {
   "cell_type": "code",
   "execution_count": 224,
   "id": "32b73426-aac9-4280-b023-24bad756f666",
   "metadata": {},
   "outputs": [
    {
     "name": "stdout",
     "output_type": "stream",
     "text": [
      "The greatest common divider is: 4\n"
     ]
    }
   ],
   "source": [
    "from functools import reduce\n",
    "l=[4,8,12,16,20]\n",
    "def common_divider(n):\n",
    "    a=[]\n",
    "    b=[]\n",
    "    divider=[]\n",
    "    for i in range(1,min(n)+1):\n",
    "        for j in n:\n",
    "            if j%i==0:\n",
    "                a.append(i)\n",
    "            elif j%i!=0:\n",
    "                b.append(i)\n",
    "        if i not in b:\n",
    "            divider.append(i)\n",
    "    return divider\n",
    "\n",
    "gcd=reduce(lambda x,y: x if x>y else y, common_divider(l))\n",
    "\n",
    "print(\"The greatest common divider is:\",gcd)"
   ]
  },
  {
   "cell_type": "markdown",
   "id": "c8baa6dc-79ae-4407-9c5e-9f7237ac94d7",
   "metadata": {},
   "source": [
    " 7. Write aPython program that uses the `reduce()` function to find the sum of the digits of a given\n",
    " number."
   ]
  },
  {
   "cell_type": "code",
   "execution_count": 201,
   "id": "dc8f468d-de50-4ab5-b4eb-2bafec2e5db7",
   "metadata": {},
   "outputs": [
    {
     "name": "stdout",
     "output_type": "stream",
     "text": [
      "Sum of digit: 9\n"
     ]
    }
   ],
   "source": [
    "from functools import reduce\n",
    "l=[12,11,13]\n",
    "total=reduce(lambda x,y: x+y,[int(i) for i in str(l) if i.isdigit()])\n",
    "print(\"Sum of digit:\",total)"
   ]
  },
  {
   "cell_type": "markdown",
   "id": "4b882aaf-95c0-42c8-87a1-1b3a950fc656",
   "metadata": {},
   "source": [
    "# Filter :"
   ]
  },
  {
   "cell_type": "markdown",
   "id": "061734ad-1459-4964-bbba-3bdd23f24ac4",
   "metadata": {},
   "source": [
    "1. Explain the purpose of the `filter()` function in Python and provide an example of how it can be\n",
    " used to filter elements from an iterable"
   ]
  },
  {
   "cell_type": "code",
   "execution_count": 284,
   "id": "304dfe89-fc29-4869-b47d-db5c319ca1aa",
   "metadata": {},
   "outputs": [
    {
     "name": "stdout",
     "output_type": "stream",
     "text": [
      "Negative numbers: [-1, -2, -3]\n"
     ]
    }
   ],
   "source": [
    "#filter function is similar like map as it takes function and check each iterable if condition is true it will return it as output\n",
    "#for example we will print negative number from list\n",
    "\n",
    "l=[0,1,-1,-2,4,-3]\n",
    "negative=list(filter(lambda x: x<0,l)) #here we have applied filter to check condition \n",
    "print(\"Negative numbers:\",negative)"
   ]
  },
  {
   "cell_type": "markdown",
   "id": "05023ff6-ebb4-45b2-984e-bd0a563225ea",
   "metadata": {},
   "source": [
    "2. Write aPython program that uses the `filter()` function to select even numbers from a list of\n",
    " integers."
   ]
  },
  {
   "cell_type": "code",
   "execution_count": 287,
   "id": "ac03db22-28fb-4b25-886f-9d406b1a1c0e",
   "metadata": {},
   "outputs": [
    {
     "name": "stdout",
     "output_type": "stream",
     "text": [
      "Even number: [2, 4, 6, 8, 10]\n"
     ]
    }
   ],
   "source": [
    "l2=[1,2,3,4,5,6,7,8,9,10]\n",
    "even_num=list(filter(lambda x: x%2==0,l2))\n",
    "print(\"Even number:\",even_num)"
   ]
  },
  {
   "cell_type": "markdown",
   "id": "24b23fa5-df2f-4503-9dcc-032e858b3ff1",
   "metadata": {},
   "source": [
    "3. Create a Python program that uses the `filter()` function to select names that start with a specific\n",
    " letter from a list of strings."
   ]
  },
  {
   "cell_type": "code",
   "execution_count": 291,
   "id": "059ec805-4fc8-4ef4-a47a-37ccb57571cd",
   "metadata": {},
   "outputs": [
    {
     "name": "stdin",
     "output_type": "stream",
     "text": [
      "enter letter r\n"
     ]
    },
    {
     "name": "stdout",
     "output_type": "stream",
     "text": [
      "Names which start with r : ['raj', 'rohit', 'ram']\n"
     ]
    }
   ],
   "source": [
    "l=['raj','rohit','ram','pradeep','arjun','vijay']\n",
    "startwith=input('enter letter')\n",
    "check=list(filter(lambda x: x.startswith(startwith),l))\n",
    "print(\"Names which start with\",startwith,\":\",check)"
   ]
  },
  {
   "cell_type": "markdown",
   "id": "333bd9d4-fa78-4d09-b072-e29c4c965c6e",
   "metadata": {},
   "source": [
    "4. Write aPython program that uses the `filter()` function to select prime numbers from a list of\n",
    " integers."
   ]
  },
  {
   "cell_type": "code",
   "execution_count": 298,
   "id": "7480cd04-dd71-4dea-b21f-f94c75d40aef",
   "metadata": {},
   "outputs": [
    {
     "name": "stdout",
     "output_type": "stream",
     "text": [
      "The prime number in list is: [2, 3, 5, 7, 11, 13]\n"
     ]
    }
   ],
   "source": [
    "def check_prime(n,start=2):\n",
    "    if n==2 or n==3:\n",
    "        return n\n",
    "    elif  start<n and n%start==0 or n==1:\n",
    "        pass\n",
    "    elif n<start and n%start!=0:\n",
    "        return n\n",
    "    else:\n",
    "        return check_prime(n,start+1)\n",
    "\n",
    "list4=[1,2,3,4,5,6,7,8,9,10,11,12,13]\n",
    "get_prime=list(filter(check_prime,list4))\n",
    "print(\"The prime number in list is:\",get_prime)"
   ]
  },
  {
   "cell_type": "markdown",
   "id": "ec397b94-e50b-4046-8ee5-e42ff7dc0e73",
   "metadata": {},
   "source": [
    " 5. Howcanyouusethe`filter()` function to remove None values from a list in Python?"
   ]
  },
  {
   "cell_type": "code",
   "execution_count": 300,
   "id": "fe7924ab-b622-4386-a6ad-660cd03f0f41",
   "metadata": {},
   "outputs": [
    {
     "name": "stdout",
     "output_type": "stream",
     "text": [
      "List after removing none values: [1, 3, 8]\n"
     ]
    }
   ],
   "source": [
    "my_list = [1, None, 3, None, 8, None]\n",
    "new_list = list(filter(lambda x: x is not None, my_list))\n",
    "\n",
    "print(\"List after removing none values:\",new_list)"
   ]
  },
  {
   "cell_type": "markdown",
   "id": "54d08f4e-06c8-4e3d-bf0f-68bf08a2da08",
   "metadata": {},
   "source": [
    " 6. Create a Python program that uses `filter()` to select words longer than a certain length from a\n",
    " list of strings."
   ]
  },
  {
   "cell_type": "code",
   "execution_count": 303,
   "id": "0b6127b8-843f-41dd-ae37-0a0d7d3a19b1",
   "metadata": {},
   "outputs": [
    {
     "name": "stdout",
     "output_type": "stream",
     "text": [
      "The word lenth is longer than 7: ['ignoring', 'whatsapp', 'facebook']\n"
     ]
    }
   ],
   "source": [
    "l5=['longer','ignoring','whatsapp','is','facebook']\n",
    "filter_l5=list(filter(lambda x: len(x)>7,l5))\n",
    "\n",
    "print(\"The word lenth is longer than 7:\",filter_l5)"
   ]
  },
  {
   "cell_type": "markdown",
   "id": "c57ffb81-f7b1-4577-a8ea-87b4e039a6ce",
   "metadata": {},
   "source": [
    "7. Write aPython program that uses the `filter()` function to select elements greater than a\n",
    " specified threshold from a list of values."
   ]
  },
  {
   "cell_type": "code",
   "execution_count": 306,
   "id": "ce121ade-4b42-48a4-9e4b-a69b37cd6f15",
   "metadata": {},
   "outputs": [
    {
     "name": "stdout",
     "output_type": "stream",
     "text": [
      "Number greater than thresold: [6, 7, 8, 9]\n"
     ]
    }
   ],
   "source": [
    "list6=[1,2,3,4,5,6,7,8,9]\n",
    "thresold=5\n",
    "new_list=list(filter(lambda x: x>thresold,list6))\n",
    "print(\"Number greater than thresold:\",new_list)"
   ]
  },
  {
   "cell_type": "markdown",
   "id": "ba621756-d59c-4eff-9739-4ad7edda2ff4",
   "metadata": {},
   "source": [
    "#  Recursion:\n"
   ]
  },
  {
   "cell_type": "markdown",
   "id": "9bd9b16d-301e-4950-81c1-0b687c3e906c",
   "metadata": {},
   "source": [
    "1. Explain the concept of recursion in Python. How does it differ from iteration?\n"
   ]
  },
  {
   "cell_type": "code",
   "execution_count": 1,
   "id": "83fde45e-ecfb-4365-8604-860158a1436d",
   "metadata": {},
   "outputs": [
    {
     "data": {
      "text/plain": [
       "'#Answer:= recursion is breaking a component down into smaller components using the same function. This function call itself either directly or \\n             indirectly over and over until the base problem is solved or identified.\\n             A program is called recursive when entity called itself. A program is called iteration when there is a loop.\\n'"
      ]
     },
     "execution_count": 1,
     "metadata": {},
     "output_type": "execute_result"
    }
   ],
   "source": [
    "\"\"\"#Answer:= recursion is breaking a component down into smaller components using the same function. This function call itself either directly or \n",
    "             indirectly over and over until the base problem is solved or identified.\n",
    "             A program is called recursive when entity called itself. A program is called iteration when there is a loop.\n",
    "\"\"\""
   ]
  },
  {
   "cell_type": "markdown",
   "id": "a7a71baf-d54f-4632-b7e3-f04154175038",
   "metadata": {},
   "source": [
    " 2. Write aPython program to calculate the factorial of a number using recursion.\n"
   ]
  },
  {
   "cell_type": "code",
   "execution_count": 307,
   "id": "206cc20f-91a2-489c-bdb5-ff2452086d03",
   "metadata": {},
   "outputs": [],
   "source": [
    "def factorial(n):\n",
    "    if n==0:\n",
    "        return 1\n",
    "    else:\n",
    "        return n*factorial(n-1)"
   ]
  },
  {
   "cell_type": "code",
   "execution_count": 308,
   "id": "4965658e-f445-4385-aa97-3cff70e3c25f",
   "metadata": {},
   "outputs": [
    {
     "data": {
      "text/plain": [
       "120"
      ]
     },
     "execution_count": 308,
     "metadata": {},
     "output_type": "execute_result"
    }
   ],
   "source": [
    "factorial(5)"
   ]
  },
  {
   "cell_type": "markdown",
   "id": "3a3774bb-0dd2-413d-b738-25394fdd81c9",
   "metadata": {},
   "source": [
    " 3. Create a recursive Python function to find the nth Fibonacci number.\n"
   ]
  },
  {
   "cell_type": "code",
   "execution_count": 328,
   "id": "b2dd87ca-2645-4264-989f-7f050cfe76ab",
   "metadata": {},
   "outputs": [],
   "source": [
    "def fibonacci(n):\n",
    "    if n==1 :\n",
    "        return 0\n",
    "    elif n==2:\n",
    "        return 1\n",
    "    else:\n",
    "        return fibonacci(n-1)+fibonacci(n-2)\n",
    "    "
   ]
  },
  {
   "cell_type": "code",
   "execution_count": 329,
   "id": "b824d84e-6328-43ea-8823-649720ac8caa",
   "metadata": {},
   "outputs": [
    {
     "data": {
      "text/plain": [
       "3"
      ]
     },
     "execution_count": 329,
     "metadata": {},
     "output_type": "execute_result"
    }
   ],
   "source": [
    "fibonacci(5)"
   ]
  },
  {
   "cell_type": "markdown",
   "id": "0af43eac-c1db-4689-bae1-24869cf45af3",
   "metadata": {},
   "source": [
    " 4. Write arecursive Python function to calculate the sum of all elements in a list.\n"
   ]
  },
  {
   "cell_type": "code",
   "execution_count": 354,
   "id": "14219d68-afe7-4bff-96bd-8e61c9c9e23f",
   "metadata": {},
   "outputs": [],
   "source": [
    "def sum_of_all(l):\n",
    "    if not l:\n",
    "        return 0\n",
    "    else:\n",
    "        return l[0]+ sum_of_all(l[1:])"
   ]
  },
  {
   "cell_type": "code",
   "execution_count": 355,
   "id": "20ad8027-e37e-444f-a5bb-fd4f68d45977",
   "metadata": {},
   "outputs": [
    {
     "data": {
      "text/plain": [
       "51"
      ]
     },
     "execution_count": 355,
     "metadata": {},
     "output_type": "execute_result"
    }
   ],
   "source": [
    "l=[1,2,3,45]\n",
    "sum_of_all(l)"
   ]
  },
  {
   "cell_type": "markdown",
   "id": "b7000b5b-e001-4b42-a7ac-3e15938349a0",
   "metadata": {},
   "source": [
    " 5. How can you prevent a recursive function from running indefinitely, causing a stack overflow\n",
    " error?"
   ]
  },
  {
   "cell_type": "code",
   "execution_count": null,
   "id": "1e5aecbc-b1cd-4085-924c-1ac292fe37f6",
   "metadata": {},
   "outputs": [],
   "source": [
    "#Answer- we have to always make sure we are putting base or termination condition to break the recurrsion otherwise it will run indefinitely"
   ]
  },
  {
   "cell_type": "markdown",
   "id": "bd0e91dc-5353-4691-8eba-7dbcb57480e1",
   "metadata": {},
   "source": [
    " 6. Create a recursive Python function to find the greatest common divisor (GCD) of two numbers\n",
    " using the Euclidean algorithm."
   ]
  },
  {
   "cell_type": "code",
   "execution_count": 358,
   "id": "14bd9c50-457a-4033-a676-aaf2eac59974",
   "metadata": {},
   "outputs": [],
   "source": [
    "def gcd(a,b):\n",
    "    minimum=min(a,b)\n",
    "    if b==0:\n",
    "        return a\n",
    "    else:\n",
    "        return gcd(b,a%b)"
   ]
  },
  {
   "cell_type": "code",
   "execution_count": 364,
   "id": "7765261f-3900-4156-91d9-ba5d89973ae2",
   "metadata": {},
   "outputs": [
    {
     "data": {
      "text/plain": [
       "5"
      ]
     },
     "execution_count": 364,
     "metadata": {},
     "output_type": "execute_result"
    }
   ],
   "source": [
    "a,b=10,15\n",
    "gcd(a,b)"
   ]
  },
  {
   "cell_type": "markdown",
   "id": "4b3665c1-429d-4058-9536-cf20840c750e",
   "metadata": {},
   "source": [
    "7. Write arecursive Python function to reverse a string."
   ]
  },
  {
   "cell_type": "code",
   "execution_count": 370,
   "id": "ba30cbfe-cba8-43d1-9d1b-fcc0eec5be97",
   "metadata": {},
   "outputs": [],
   "source": [
    "def reverse_string(n):\n",
    "    if len(n)==1:\n",
    "        return n\n",
    "    else:\n",
    "        return reverse_string(n[1:])+ n[0]"
   ]
  },
  {
   "cell_type": "code",
   "execution_count": 371,
   "id": "62d1c96b-e09d-4b17-bea5-3f848a39ddca",
   "metadata": {},
   "outputs": [
    {
     "data": {
      "text/plain": [
       "'tihor si eman ym'"
      ]
     },
     "execution_count": 371,
     "metadata": {},
     "output_type": "execute_result"
    }
   ],
   "source": [
    "s=\"my name is rohit\"\n",
    "reverse_string(s)"
   ]
  },
  {
   "cell_type": "markdown",
   "id": "333fd918-6712-4902-99c0-3eca2adacc08",
   "metadata": {},
   "source": [
    " 8. Create a recursive Python function to calculate the power of a number (x^n)."
   ]
  },
  {
   "cell_type": "code",
   "execution_count": 373,
   "id": "a74e2057-a20b-49b5-b8a0-b6780f8b6442",
   "metadata": {},
   "outputs": [],
   "source": [
    "def get_power(x,n,start=1):\n",
    "    if x==1:\n",
    "        return 1\n",
    "    elif x**start==x**n:\n",
    "        return x**n\n",
    "    else:\n",
    "        return get_power(x,n,start+1)"
   ]
  },
  {
   "cell_type": "code",
   "execution_count": 375,
   "id": "94283086-4707-4ed0-9ae3-7693a98df919",
   "metadata": {},
   "outputs": [
    {
     "data": {
      "text/plain": [
       "16"
      ]
     },
     "execution_count": 375,
     "metadata": {},
     "output_type": "execute_result"
    }
   ],
   "source": [
    "get_power(2,4)"
   ]
  },
  {
   "cell_type": "markdown",
   "id": "9643eaf7-1294-4e7a-abb9-584685d0d0ea",
   "metadata": {},
   "source": [
    " 9. Write a recursive Python function to find all permutations of a given string.\n"
   ]
  },
  {
   "cell_type": "code",
   "execution_count": 33,
   "id": "89be4d02-fad1-4c9d-bd2c-8f6f0a4d520e",
   "metadata": {},
   "outputs": [],
   "source": [
    "def perm_string(a):\n",
    "    permutation=[]\n",
    "    if len(a)==1:\n",
    "       return a\n",
    "    else:\n",
    "       for i,j in enumerate(a):\n",
    "           for perm in perm_string(a[:i]+a[i+1:]):\n",
    "               permutation.append(j+perm)\n",
    "    return permutation\n",
    "               "
   ]
  },
  {
   "cell_type": "code",
   "execution_count": 34,
   "id": "46163500-b2d2-4e5c-bfce-a39fae4dc237",
   "metadata": {},
   "outputs": [
    {
     "data": {
      "text/plain": [
       "['abc', 'acb', 'bac', 'bca', 'cab', 'cba']"
      ]
     },
     "execution_count": 34,
     "metadata": {},
     "output_type": "execute_result"
    }
   ],
   "source": [
    "perm_string(\"abc\")"
   ]
  },
  {
   "cell_type": "markdown",
   "id": "988ad0b1-74bd-40d8-91d5-7cc9e9c6b0a9",
   "metadata": {},
   "source": [
    " 10. Write a recursive Python function to check if a string is a palindrome."
   ]
  },
  {
   "cell_type": "code",
   "execution_count": 72,
   "id": "0513556a-d0fd-4a9f-89b7-4bf309b897c9",
   "metadata": {},
   "outputs": [],
   "source": [
    "def check_palindrome(string):\n",
    "    if len(string)<=1:\n",
    "        return \"Its a palindrome\"\n",
    "    elif string[0]==string[-1]:\n",
    "        return check_palindrome(s[1:-1])\n",
    "    else:\n",
    "        print(\"Its not a palindrome\")"
   ]
  },
  {
   "cell_type": "code",
   "execution_count": 73,
   "id": "ba1e85a7-a44d-48c4-a303-f82bb54ec57e",
   "metadata": {},
   "outputs": [
    {
     "data": {
      "text/plain": [
       "'Its a palindrome'"
      ]
     },
     "execution_count": 73,
     "metadata": {},
     "output_type": "execute_result"
    }
   ],
   "source": [
    "check_palindrome(\"rar\")"
   ]
  },
  {
   "cell_type": "markdown",
   "id": "6266a8a1-bcb3-448a-8e7e-1a04d201b84a",
   "metadata": {},
   "source": [
    " 11. Create a recursive Python function to generate all possible combinations of a list of elements."
   ]
  },
  {
   "cell_type": "code",
   "execution_count": 75,
   "id": "d74743de-30a5-47a5-ac95-196e448c3c78",
   "metadata": {},
   "outputs": [],
   "source": [
    "def generate_combinations(l):\n",
    "    if l:\n",
    "        result=generate_combinations(l[:-1])\n",
    "        return result+[i+[l[-1]] for i in result]\n",
    "    else:\n",
    "        return [[]]"
   ]
  },
  {
   "cell_type": "code",
   "execution_count": 76,
   "id": "e2775a44-11e9-4b74-9a0a-87fd3a8dc927",
   "metadata": {},
   "outputs": [
    {
     "data": {
      "text/plain": [
       "[[],\n",
       " [1],\n",
       " [2],\n",
       " [1, 2],\n",
       " [3],\n",
       " [1, 3],\n",
       " [2, 3],\n",
       " [1, 2, 3],\n",
       " [4],\n",
       " [1, 4],\n",
       " [2, 4],\n",
       " [1, 2, 4],\n",
       " [3, 4],\n",
       " [1, 3, 4],\n",
       " [2, 3, 4],\n",
       " [1, 2, 3, 4]]"
      ]
     },
     "execution_count": 76,
     "metadata": {},
     "output_type": "execute_result"
    }
   ],
   "source": [
    "l=[1,2,3,4]\n",
    "generate_combinations(l)"
   ]
  },
  {
   "cell_type": "markdown",
   "id": "6087eb78-8bee-4c0b-bb71-83e89c131bbb",
   "metadata": {},
   "source": [
    "# Basics of Functions:\n"
   ]
  },
  {
   "cell_type": "markdown",
   "id": "77dca596-9564-44ce-a4b8-a52ecd87c184",
   "metadata": {},
   "source": [
    " 1. What is a function in Python, and why is it used?\n"
   ]
  },
  {
   "cell_type": "code",
   "execution_count": 83,
   "id": "354df74c-8338-4428-aa19-4a93ce978b97",
   "metadata": {},
   "outputs": [],
   "source": [
    "#Answer - function is a block of statement  which returns a specific task \n",
    "#\"\"\" the use of function in python to avoid repeatating task so we can re-use function again and again.We can call the function to use the \n",
    "# code again and again without writing it.\"\"\""
   ]
  },
  {
   "cell_type": "markdown",
   "id": "df8189b6-5f37-4aea-b9ac-b73484eb9401",
   "metadata": {},
   "source": [
    " 2. How do you define a function in Python? Provide an example."
   ]
  },
  {
   "cell_type": "code",
   "execution_count": 86,
   "id": "ecdb22df-4808-48e8-a61d-71ac9ba80fda",
   "metadata": {},
   "outputs": [
    {
     "name": "stdout",
     "output_type": "stream",
     "text": [
      "The greater number is: 5\n"
     ]
    }
   ],
   "source": [
    "'''Answer:- we can define function with key word def and then function name and then (parameters):\n",
    "#with intedeation we write statement and then return it.'''\n",
    "#for example'''\n",
    "def largest(a,b):\n",
    "    #here with the help of key def we have created the funciton add\n",
    "    if a>b:\n",
    "        return a\n",
    "    else:\n",
    "        return b  # now we have written a block of statement to find which is greater and then return greater value\n",
    "\n",
    "print(\"The greater number is:\",largest(3,5)) #called the function\n"
   ]
  },
  {
   "cell_type": "markdown",
   "id": "1258f947-a00a-4091-bd8f-5660f9057fc1",
   "metadata": {},
   "source": [
    " 3. Explain the difference between a function definition and a function call.\n"
   ]
  },
  {
   "cell_type": "code",
   "execution_count": null,
   "id": "8ededae2-c5e2-4d23-9ee3-5dfdc5193f33",
   "metadata": {},
   "outputs": [],
   "source": [
    "#Answer\n",
    "'''' A function is nothing but a set of statement which is written as block to perform a specific task. Often we required to perform same task again and again.\n",
    "so to avoid writing a same code again and again we use a function by writing it once and use n number of times.\n",
    "function calling refers to the process of executing a function within a program. we called the function by its name followed by parentheses().\n",
    "And sometimes function requires input values in parantheses as arguments."
   ]
  },
  {
   "cell_type": "markdown",
   "id": "ae26d764-6fd1-4152-8819-7aaa4a1b403c",
   "metadata": {},
   "source": [
    " 4. Write aPython program that defines a function to calculate the sum of two numbers and then\n",
    " calls the function."
   ]
  },
  {
   "cell_type": "code",
   "execution_count": 89,
   "id": "450e8ab5-3f31-4a00-804f-66ac8055dbd0",
   "metadata": {},
   "outputs": [],
   "source": [
    "def sum_of(a,b):\n",
    "    print(\"Sum:\", a+b)"
   ]
  },
  {
   "cell_type": "code",
   "execution_count": 90,
   "id": "5977e2b6-2b5d-4095-af8c-9af71e47b0b6",
   "metadata": {},
   "outputs": [
    {
     "name": "stdout",
     "output_type": "stream",
     "text": [
      "Sum: 8\n"
     ]
    }
   ],
   "source": [
    "sum_of(3,5)"
   ]
  },
  {
   "cell_type": "markdown",
   "id": "8a4126d1-0c10-4b7f-98eb-d6e5738603c8",
   "metadata": {},
   "source": [
    " 5. Whatisafunction signature, and what information does it typically include?"
   ]
  },
  {
   "cell_type": "code",
   "execution_count": 92,
   "id": "c73b262c-31b1-4f15-9c7d-2f43fd14dbb1",
   "metadata": {},
   "outputs": [
    {
     "data": {
      "text/plain": [
       "'A function signature refers to the declaration and defination of a function which include\\n# function name: which should be unique to identify\\n# Parameters:  The input values which are specified within parantheses\\n#return type: for example return and print'"
      ]
     },
     "execution_count": 92,
     "metadata": {},
     "output_type": "execute_result"
    }
   ],
   "source": [
    "'''A function signature refers to the declaration and defination of a function which include\n",
    "# function name: which should be unique to identify\n",
    "# Parameters:  The input values which are specified within parantheses\n",
    "#return type: for example return and print'''"
   ]
  },
  {
   "cell_type": "markdown",
   "id": "79312ba7-eaf5-4509-9599-1a09d723af02",
   "metadata": {},
   "source": [
    " 6. Create a Python function that takes two arguments and returns their product.\n"
   ]
  },
  {
   "cell_type": "code",
   "execution_count": 93,
   "id": "3073ec67-3c46-48f6-beb0-436fa5c5de6c",
   "metadata": {},
   "outputs": [],
   "source": [
    "def multipy(a,b):\n",
    "    return a*b"
   ]
  },
  {
   "cell_type": "code",
   "execution_count": 96,
   "id": "4043e752-921d-4963-9e00-cdd4061854af",
   "metadata": {},
   "outputs": [
    {
     "name": "stdout",
     "output_type": "stream",
     "text": [
      "Product: 6\n"
     ]
    }
   ],
   "source": [
    "print(\"Product:\" ,multipy(2,3))"
   ]
  },
  {
   "cell_type": "markdown",
   "id": "099b8026-65dc-4460-b602-0afcb9404f48",
   "metadata": {},
   "source": [
    "#  Function Parameters and Arguments:\n"
   ]
  },
  {
   "cell_type": "markdown",
   "id": "c4fd2426-62c5-4a2a-8c45-c39b58047e45",
   "metadata": {},
   "source": [
    " 1. Explain the concepts of formal parameters and actual arguments in Python functions.\n"
   ]
  },
  {
   "cell_type": "code",
   "execution_count": 99,
   "id": "8f9129f3-9bdf-4c59-ad02-b3ba50ada290",
   "metadata": {},
   "outputs": [
    {
     "data": {
      "text/plain": [
       "'\\n#Formal Parameters:- formal parameters are placeholder defined in the signature or declaration. It represent the data that function expects to receive \\nwhen function called\\n#Arguments in Python function:- Argument is a data in which function perform some action and returns the result. \\narguments are passed within paranthesis.'"
      ]
     },
     "execution_count": 99,
     "metadata": {},
     "output_type": "execute_result"
    }
   ],
   "source": [
    "'''\n",
    "#Formal Parameters:- formal parameters are placeholder defined in the signature or declaration. It represent the data that function expects to receive \n",
    "when function called\n",
    "#Arguments in Python function:- Argument is a data in which function perform some action and returns the result. \n",
    "arguments are passed within paranthesis.\n",
    "type of arguments:\n",
    "#Default argument\n",
    "#Keyword arguments \n",
    "#Positional arguments\n",
    "# Arbitrary arguments \n",
    "'''\n",
    "\n"
   ]
  },
  {
   "cell_type": "markdown",
   "id": "3d2e0edf-adeb-45f6-96b7-b222f3027fe3",
   "metadata": {},
   "source": [
    " 2. Write aPython program that defines a function with default argument values"
   ]
  },
  {
   "cell_type": "code",
   "execution_count": 101,
   "id": "449116b6-45bd-4a9a-a20c-a434d5188e72",
   "metadata": {},
   "outputs": [
    {
     "name": "stdout",
     "output_type": "stream",
     "text": [
      "Your division is: A\n"
     ]
    }
   ],
   "source": [
    "def school_division(division='A'): \n",
    "    #here default argument of division is A\n",
    "    print(\"Your division is:\",division)\n",
    "\n",
    "school_division()"
   ]
  },
  {
   "cell_type": "markdown",
   "id": "f0583ea1-56c0-4f5d-a737-9f44bf964c54",
   "metadata": {},
   "source": [
    "3. how do you use keyword Arguments in Python function calls? Provide an example."
   ]
  },
  {
   "cell_type": "code",
   "execution_count": 102,
   "id": "88704def-9812-4586-a63d-ee5453dde6a2",
   "metadata": {},
   "outputs": [
    {
     "name": "stdout",
     "output_type": "stream",
     "text": [
      "example 1 - no change in positon \n",
      "My name is Rohit and age is 29\n",
      "example 2 - change is positon\n",
      "My name is Rohit and age is 29\n"
     ]
    }
   ],
   "source": [
    "def intro(name,age):\n",
    "    print(f\"My name is {name} and age is {age}\")\n",
    "\n",
    "# the benefit of keyword argument is if we change the position of argument even though there will be no change in output\n",
    "print(\"example 1 - no change in positon \")\n",
    "intro(name=\"Rohit\",age=29)\n",
    "print(\"example 2 - change is positon\")\n",
    "intro(age=29,name=\"Rohit\")"
   ]
  },
  {
   "cell_type": "markdown",
   "id": "272ab3c9-1764-4806-bb9c-e4ce5fc0777d",
   "metadata": {},
   "source": [
    " 4. Create a Python function that accepts a variable number of arguments and calculates their sum."
   ]
  },
  {
   "cell_type": "code",
   "execution_count": 104,
   "id": "6de08e30-83af-45a5-bfab-fd35f3a66845",
   "metadata": {},
   "outputs": [
    {
     "data": {
      "text/plain": [
       "21"
      ]
     },
     "execution_count": 104,
     "metadata": {},
     "output_type": "execute_result"
    }
   ],
   "source": [
    "def sum_num(*numbers):\n",
    "    return sum(numbers)\n",
    "\n",
    "sum_num(1,2,3,4,5,6)"
   ]
  },
  {
   "cell_type": "markdown",
   "id": "43a2e530-5a01-4f09-97d4-0c25429cb7e0",
   "metadata": {},
   "source": [
    " 5. Whatisthepurpose of the `*args` and `**kwargs` syntax in function parameter lists?"
   ]
  },
  {
   "cell_type": "code",
   "execution_count": 105,
   "id": "2ab2acbf-5535-4229-a644-16264904460d",
   "metadata": {},
   "outputs": [
    {
     "data": {
      "text/plain": [
       "' \\n# *args - the * is a syntax and args is a convention in the place of args we can use any name. *args is used to pass a number of arguments in function parameter.\\n# **kwargs the ** is a synatax and kwarg is a convention in the place of kwarg we can use any name. **kwargs is used to pass a number of argument is key value pair\\n'"
      ]
     },
     "execution_count": 105,
     "metadata": {},
     "output_type": "execute_result"
    }
   ],
   "source": [
    "\"\"\" \n",
    "# *args - the * is a syntax and args is a convention in the place of args we can use any name. *args is used to pass a number of arguments in function parameter.\n",
    "# **kwargs the ** is a synatax and kwarg is a convention in the place of kwarg we can use any name. **kwargs is used to pass a number of argument is key value pair\n",
    "\"\"\""
   ]
  },
  {
   "cell_type": "markdown",
   "id": "16b63300-5aa9-4bd0-9f31-c1eb7613d44b",
   "metadata": {},
   "source": [
    "# Return Values and Scoping:"
   ]
  },
  {
   "cell_type": "markdown",
   "id": "34a9b391-535b-485f-aeca-b4ccb99f0453",
   "metadata": {},
   "source": [
    " 1. Describe the role of the `return` statement in Python functions and provide examples."
   ]
  },
  {
   "cell_type": "code",
   "execution_count": 113,
   "id": "70b3b110-3d11-489e-9f00-dd3a9aff8545",
   "metadata": {},
   "outputs": [
    {
     "data": {
      "text/plain": [
       "10"
      ]
     },
     "execution_count": 113,
     "metadata": {},
     "output_type": "execute_result"
    }
   ],
   "source": [
    "# return - the return is used inside of function it cant be use outside function. the return function always return the value of expression \n",
    "#            so we can use it to perform further operation unlike print function as it always return nonetype\n",
    "#example \n",
    "\n",
    "def sum(a,b):\n",
    "    return(a+b)\n",
    "\n",
    "sum(2,3)*2 \n",
    "\n",
    "#here we have used the return output again cause the output type is int because of that we are able to perform further operation"
   ]
  },
  {
   "cell_type": "markdown",
   "id": "1f322812-809a-4ed6-b027-6b403adbe0b5",
   "metadata": {},
   "source": [
    " 2. Explain the concept of variable scope in Python, including local and global variables."
   ]
  },
  {
   "cell_type": "code",
   "execution_count": 117,
   "id": "6ddfc68a-bd28-4e9d-bd59-84d095fefa71",
   "metadata": {},
   "outputs": [],
   "source": [
    "# Variable scope:-  the location where we can find variable and access it when required is called scope of variable\n",
    "#local variable:- are those variable which we define within a function and can not be access outside of function\n",
    "# global variable:- are those variable which we define outside of function and not specified to any function, it can be use any time"
   ]
  },
  {
   "cell_type": "markdown",
   "id": "8a9b5302-0ecb-4524-8fad-450e848ebf24",
   "metadata": {},
   "source": [
    "3. Write aPython program that demonstrates the use of global variables within functions"
   ]
  },
  {
   "cell_type": "code",
   "execution_count": 118,
   "id": "6135b92b-ae9d-4844-8d7a-10c7c01430f0",
   "metadata": {},
   "outputs": [
    {
     "name": "stdout",
     "output_type": "stream",
     "text": [
      "my name is Rohit\n"
     ]
    }
   ],
   "source": [
    "str1=\"my name is Rohit\"\n",
    "\n",
    "def use_global_variable(a):\n",
    "    print(a)\n",
    "\n",
    "use_global_variable(str1)"
   ]
  },
  {
   "cell_type": "markdown",
   "id": "7f06f0b0-bf08-49e0-9edc-350dc3ef4c95",
   "metadata": {},
   "source": [
    "4. Create a Python function that calculates the factorial of a number and returns it."
   ]
  },
  {
   "cell_type": "code",
   "execution_count": 125,
   "id": "3c09600c-31dc-49ad-8689-542454cb3759",
   "metadata": {},
   "outputs": [],
   "source": [
    "def facto(n):\n",
    "    factorial=1\n",
    "    for i in range(1,n+1):\n",
    "        factorial*=i\n",
    "    return factorial"
   ]
  },
  {
   "cell_type": "code",
   "execution_count": 126,
   "id": "504840b4-7dea-428c-8907-627a8e11bc2a",
   "metadata": {},
   "outputs": [
    {
     "data": {
      "text/plain": [
       "120"
      ]
     },
     "execution_count": 126,
     "metadata": {},
     "output_type": "execute_result"
    }
   ],
   "source": [
    "facto(5)"
   ]
  },
  {
   "cell_type": "markdown",
   "id": "f7f5394f-1e42-4a46-8f8e-05f8629a6c6d",
   "metadata": {},
   "source": [
    " 5. How can you access variables defined outside a function from within the function?\n"
   ]
  },
  {
   "cell_type": "code",
   "execution_count": 128,
   "id": "4c09467b-aab6-4d39-b136-63c2b6260592",
   "metadata": {},
   "outputs": [
    {
     "name": "stdout",
     "output_type": "stream",
     "text": [
      "original variable: 10\n",
      "modified variable using function: 20\n"
     ]
    }
   ],
   "source": [
    "def access_variable(variable):\n",
    "    return variable+10\n",
    "\n",
    "a=10 #original variable which is written outside the function\n",
    "print(\"original variable:\",a)\n",
    "\n",
    "print(\"modified variable using function:\",access_variable(a))"
   ]
  },
  {
   "cell_type": "markdown",
   "id": "0d9019f6-1106-410f-b541-7ae2f5b8731d",
   "metadata": {},
   "source": [
    "#  Lambda Functions and Higher-Order Functions:"
   ]
  },
  {
   "cell_type": "markdown",
   "id": "c8e4b9a4-1978-4de9-b906-9f397600e1fd",
   "metadata": {},
   "source": [
    " 1. What are lambda functions in Python, and when are they typically used?\n"
   ]
  },
  {
   "cell_type": "code",
   "execution_count": null,
   "id": "29142709-046c-4998-aecc-fdcb8cb1005b",
   "metadata": {},
   "outputs": [],
   "source": [
    "\"\"\"# lambda function is also known as anonymous funciton it is worked same as normal funciton like def.\n",
    "     it can be define without name, they are used to write single line code and normaly it is used with filter(), reduce, map() function\n",
    "     it is also used to reduce number of line of code and we have to call function immediately\n",
    "     the syntax of lambda function is lambda argument: expression\n",
    "     "
   ]
  },
  {
   "cell_type": "markdown",
   "id": "18c53c77-f24d-48a1-b667-d216065221b2",
   "metadata": {},
   "source": [
    "2. Write aPython program that uses lambda functions to sort a list of tuples based on the second\n",
    " element."
   ]
  },
  {
   "cell_type": "code",
   "execution_count": 151,
   "id": "2d9bc3c6-e065-41e0-a2ef-65de8dfb8817",
   "metadata": {},
   "outputs": [
    {
     "name": "stdout",
     "output_type": "stream",
     "text": [
      "[('a', 1), ('b', 2), ('c', 3), ('d', 4)]\n"
     ]
    }
   ],
   "source": [
    "list1=[('d',4),('a',1),('c',3),('b',2)]\n",
    "sort=sorted(list1,key =lambda x:x)\n",
    "print(sort)"
   ]
  },
  {
   "cell_type": "markdown",
   "id": "66a7df4e-b94f-4708-9206-21c7759dd29e",
   "metadata": {},
   "source": [
    " 3. Explain the concept of higher-order functions in Python, and provide an example.\n"
   ]
  },
  {
   "cell_type": "code",
   "execution_count": 162,
   "id": "46e484fc-f601-4377-97f5-382618d8af4b",
   "metadata": {},
   "outputs": [
    {
     "name": "stdout",
     "output_type": "stream",
     "text": [
      "Rohit\n",
      "Rohit\n"
     ]
    }
   ],
   "source": [
    "'''# higher - order function allows us to manupilate functions for  increasing the re-usablity of functions. a function can be passed as a parameter \n",
    "     in another function, a function can be stored in a variable, in the form of lists etc.'''\n",
    "#example\n",
    "\n",
    "def name(name):\n",
    "    return name.title()\n",
    "\n",
    "print(name(\"rohit\"))\n",
    "my_name=name\n",
    "print(my_name(\"rohit\"))"
   ]
  },
  {
   "cell_type": "markdown",
   "id": "2c33673c-0271-4194-976f-2f520e167421",
   "metadata": {},
   "source": [
    " 4. Create a Python function that takes a list of numbers and a function as arguments, applying the\n",
    " function to each element in the list."
   ]
  },
  {
   "cell_type": "code",
   "execution_count": 187,
   "id": "092bc22d-e570-4e63-9dd7-95f32f0ef572",
   "metadata": {},
   "outputs": [
    {
     "name": "stdout",
     "output_type": "stream",
     "text": [
      "[2, 4, 6]\n"
     ]
    }
   ],
   "source": [
    "def duble(num,func):\n",
    "    #num=list of numbers\n",
    "    #func - for function which applied to elements in list\n",
    "    return list(map(func,num))\n",
    "\n",
    "def multiply(n):\n",
    "    return n*2\n",
    "\n",
    "l=[1,2,3]\n",
    "a=duble(l,multiply)\n",
    "print(a)"
   ]
  },
  {
   "cell_type": "markdown",
   "id": "598eb130-1e13-43a7-ba89-79fdc26647c2",
   "metadata": {},
   "source": [
    "#  Built-in Functions:\n"
   ]
  },
  {
   "cell_type": "markdown",
   "id": "390cc919-8dff-4e0d-b1e4-554981f4f934",
   "metadata": {},
   "source": [
    " 1. Describe the role of built-in functions like `len()`, `max()`, and `min()` in Python.\n"
   ]
  },
  {
   "cell_type": "code",
   "execution_count": 188,
   "id": "9358e09d-17a5-49f7-8508-250f302d7613",
   "metadata": {},
   "outputs": [
    {
     "name": "stdout",
     "output_type": "stream",
     "text": [
      "the length is: 5\n",
      "Maximum : 5\n",
      "Minimum: 1\n"
     ]
    }
   ],
   "source": [
    "#len- the used len() function to find length of variable\n",
    "#max- used of max() function to find maximum number in given container\n",
    "#min- used of min() function to find minimum number\n",
    "\n",
    "# for example\n",
    "\n",
    "a=[1,2,3,4,5]\n",
    "print(\"the length is:\",len(a))\n",
    "print(\"Maximum :\",max(a))\n",
    "print(\"Minimum:\",min(a))"
   ]
  },
  {
   "cell_type": "markdown",
   "id": "73099ce9-049c-4e81-93c2-51818b363c71",
   "metadata": {},
   "source": [
    "2. Write aPython program that uses the `map()` function to apply a function to each element of a\n",
    " list."
   ]
  },
  {
   "cell_type": "code",
   "execution_count": 189,
   "id": "8f33ac3d-531c-4818-897a-6ab1a899ae7b",
   "metadata": {},
   "outputs": [
    {
     "name": "stdout",
     "output_type": "stream",
     "text": [
      "_____SQUARE______\n",
      "[1, 4, 9, 16, 25]\n"
     ]
    }
   ],
   "source": [
    "a=[1,2,3,4,5]\n",
    "print(\"_____SQUARE______\")\n",
    "print(list(map(lambda x:x**2,a)))"
   ]
  },
  {
   "cell_type": "markdown",
   "id": "c029eb26-f853-4c52-a3c8-a01620b5b4c2",
   "metadata": {},
   "source": [
    " 3. Howdoesthe`filter()` function work in Python, and when would you use it?\n"
   ]
  },
  {
   "cell_type": "code",
   "execution_count": null,
   "id": "609564ff-19a3-4444-8fcf-5587c6f70ca7",
   "metadata": {},
   "outputs": [],
   "source": [
    "'''# filter- filter function is used to apply function to each element of array.the filter iterate each element and check if its true or flase \n",
    "and then give result. we used filter when we have to write single liner code or short code '''"
   ]
  },
  {
   "cell_type": "markdown",
   "id": "8decd929-3be3-4230-bcc0-486fba416f82",
   "metadata": {},
   "source": [
    "4. Create a Python program that uses the `reduce()` function to find the product of all elements in\n",
    " a list"
   ]
  },
  {
   "cell_type": "code",
   "execution_count": 190,
   "id": "a0807331-b484-4ee0-9493-018708495347",
   "metadata": {},
   "outputs": [
    {
     "name": "stdout",
     "output_type": "stream",
     "text": [
      "120\n"
     ]
    }
   ],
   "source": [
    "from functools import reduce\n",
    "b=[1,2,3,4,5]\n",
    "result=reduce(lambda x,y:x*y,b)\n",
    "print(result)"
   ]
  },
  {
   "cell_type": "markdown",
   "id": "9e91b857-ec62-4a6c-ac87-d20f22aa3046",
   "metadata": {},
   "source": [
    "# Function Documentation and Best Practices:\n"
   ]
  },
  {
   "cell_type": "markdown",
   "id": "b82d2158-0e68-4c85-956f-05f5beffaff0",
   "metadata": {},
   "source": [
    " 1. Explain the purpose of docstrings in Python functions and how to write them."
   ]
  },
  {
   "cell_type": "code",
   "execution_count": 193,
   "id": "8c192c47-bf0d-4d96-8812-afb4fbfc0aaa",
   "metadata": {},
   "outputs": [],
   "source": [
    "\"\"\"Docstring:- the purpose of docstring is to how to use the function, classes and method\" When we have to write clean and well documented code we use the docstring as weapon\"\"\"\n",
    "# example\n",
    "def docstring():\n",
    "    \"\"\"this is example of docstring when we write we have to put the docstring in tripple singe or double quotes just like this one\"\"\"\n",
    "    return None"
   ]
  },
  {
   "cell_type": "code",
   "execution_count": 195,
   "id": "b3ca3409-bbbf-4413-a7a4-5c5ca79480d8",
   "metadata": {},
   "outputs": [],
   "source": [
    "docstring() # we can check docstring by pressing shift+tab"
   ]
  },
  {
   "cell_type": "markdown",
   "id": "0c5c22f4-261d-4fac-88d5-f4d0ed63ba05",
   "metadata": {},
   "source": [
    "2. Describe some best practices for naming functions and variables in Python, including naming\n",
    " conventions and guidelines"
   ]
  },
  {
   "cell_type": "code",
   "execution_count": 196,
   "id": "87eeddfd-3a90-4de2-b25f-19a96e7b8a89",
   "metadata": {},
   "outputs": [
    {
     "data": {
      "text/plain": [
       "'Naming conventions are basically just agreed-upon standards that programmers follow when naming their variables, \\nfunctions, classes, and other code elements. They provide a level of predictability that makes it easier to understand\\nthe purpose of a piece of code. This is especially important when you\\'re working in a team.Python\\'s variable naming convention is based on the \\nprinciple of \"readability counts.Like variable names, function names in Python should be descriptive and concise. The function name should clearly\\nindicate what the function does. Python\\'s naming conventions for functions are similar to its conventions for variables.\\nsome guidelines are:\\nBeautiful is better than ugly.\\nExplicit is better than implicit.\\nSimple is better than complex.\\nComplex is better than complicated.\\nFlat is better than nested.\\nSparse is better than dense.\\nReadability counts.\\nSpecial cases aren\\'t special enough to break the rules.'"
      ]
     },
     "execution_count": 196,
     "metadata": {},
     "output_type": "execute_result"
    }
   ],
   "source": [
    "'''Naming conventions are basically just agreed-upon standards that programmers follow when naming their variables, \n",
    "functions, classes, and other code elements. They provide a level of predictability that makes it easier to understand\n",
    "the purpose of a piece of code. This is especially important when you're working in a team.Python's variable naming convention is based on the \n",
    "principle of \"readability counts.Like variable names, function names in Python should be descriptive and concise. The function name should clearly\n",
    "indicate what the function does. Python's naming conventions for functions are similar to its conventions for variables.\n",
    "some guidelines are:\n",
    "Beautiful is better than ugly.\n",
    "Explicit is better than implicit.\n",
    "Simple is better than complex.\n",
    "Complex is better than complicated.\n",
    "Flat is better than nested.\n",
    "Sparse is better than dense.\n",
    "Readability counts.\n",
    "Special cases aren't special enough to break the rules.'''"
   ]
  },
  {
   "cell_type": "code",
   "execution_count": null,
   "id": "36737827-4318-4929-a498-ae1f85aa309f",
   "metadata": {},
   "outputs": [],
   "source": []
  }
 ],
 "metadata": {
  "kernelspec": {
   "display_name": "Python 3 (ipykernel)",
   "language": "python",
   "name": "python3"
  },
  "language_info": {
   "codemirror_mode": {
    "name": "ipython",
    "version": 3
   },
   "file_extension": ".py",
   "mimetype": "text/x-python",
   "name": "python",
   "nbconvert_exporter": "python",
   "pygments_lexer": "ipython3",
   "version": "3.12.3"
  }
 },
 "nbformat": 4,
 "nbformat_minor": 5
}
